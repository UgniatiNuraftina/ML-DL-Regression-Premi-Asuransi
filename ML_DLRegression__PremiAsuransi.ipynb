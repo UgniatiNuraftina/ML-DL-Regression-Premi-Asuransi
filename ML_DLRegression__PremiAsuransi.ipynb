{
  "nbformat": 4,
  "nbformat_minor": 0,
  "metadata": {
    "colab": {
      "provenance": []
    },
    "kernelspec": {
      "name": "python3",
      "display_name": "Python 3"
    },
    "language_info": {
      "name": "python"
    }
  },
  "cells": [
    {
      "cell_type": "markdown",
      "source": [
        "Import Library"
      ],
      "metadata": {
        "id": "KEThp5tUhhAG"
      }
    },
    {
      "cell_type": "code",
      "execution_count": null,
      "metadata": {
        "id": "V4P_Q3cer-jB"
      },
      "outputs": [],
      "source": [
        "import pandas as pd\n",
        "import numpy as np\n",
        "import matplotlib.pyplot as plt\n",
        "import plotly.express as px\n",
        "import seaborn as sns"
      ]
    },
    {
      "cell_type": "code",
      "source": [
        "from google.colab import drive\n",
        "drive.mount('/content/gdrive')"
      ],
      "metadata": {
        "colab": {
          "base_uri": "https://localhost:8080/"
        },
        "id": "5jCzSzRzKN8t",
        "outputId": "451f9337-a7df-4a20-8b43-60679046e58c"
      },
      "execution_count": null,
      "outputs": [
        {
          "output_type": "stream",
          "name": "stdout",
          "text": [
            "Mounted at /content/gdrive\n"
          ]
        }
      ]
    },
    {
      "cell_type": "code",
      "execution_count": null,
      "metadata": {
        "id": "2v1JA8q4r-jI",
        "outputId": "9cc06ba1-575c-4455-9525-8fd7406fa839",
        "colab": {
          "base_uri": "https://localhost:8080/",
          "height": 224
        }
      },
      "outputs": [
        {
          "output_type": "stream",
          "name": "stdout",
          "text": [
            "(1338, 7)\n"
          ]
        },
        {
          "output_type": "execute_result",
          "data": {
            "text/plain": [
              "   age     sex     bmi  children smoker     region      charges\n",
              "0   19  female  27.900         0    yes  southwest  16884.92400\n",
              "1   18    male  33.770         1     no  southeast   1725.55230\n",
              "2   28    male  33.000         3     no  southeast   4449.46200\n",
              "3   33    male  22.705         0     no  northwest  21984.47061\n",
              "4   32    male  28.880         0     no  northwest   3866.85520"
            ],
            "text/html": [
              "\n",
              "  <div id=\"df-dca0bb93-c804-4e49-9bba-d4c4c32d0fe0\" class=\"colab-df-container\">\n",
              "    <div>\n",
              "<style scoped>\n",
              "    .dataframe tbody tr th:only-of-type {\n",
              "        vertical-align: middle;\n",
              "    }\n",
              "\n",
              "    .dataframe tbody tr th {\n",
              "        vertical-align: top;\n",
              "    }\n",
              "\n",
              "    .dataframe thead th {\n",
              "        text-align: right;\n",
              "    }\n",
              "</style>\n",
              "<table border=\"1\" class=\"dataframe\">\n",
              "  <thead>\n",
              "    <tr style=\"text-align: right;\">\n",
              "      <th></th>\n",
              "      <th>age</th>\n",
              "      <th>sex</th>\n",
              "      <th>bmi</th>\n",
              "      <th>children</th>\n",
              "      <th>smoker</th>\n",
              "      <th>region</th>\n",
              "      <th>charges</th>\n",
              "    </tr>\n",
              "  </thead>\n",
              "  <tbody>\n",
              "    <tr>\n",
              "      <th>0</th>\n",
              "      <td>19</td>\n",
              "      <td>female</td>\n",
              "      <td>27.900</td>\n",
              "      <td>0</td>\n",
              "      <td>yes</td>\n",
              "      <td>southwest</td>\n",
              "      <td>16884.92400</td>\n",
              "    </tr>\n",
              "    <tr>\n",
              "      <th>1</th>\n",
              "      <td>18</td>\n",
              "      <td>male</td>\n",
              "      <td>33.770</td>\n",
              "      <td>1</td>\n",
              "      <td>no</td>\n",
              "      <td>southeast</td>\n",
              "      <td>1725.55230</td>\n",
              "    </tr>\n",
              "    <tr>\n",
              "      <th>2</th>\n",
              "      <td>28</td>\n",
              "      <td>male</td>\n",
              "      <td>33.000</td>\n",
              "      <td>3</td>\n",
              "      <td>no</td>\n",
              "      <td>southeast</td>\n",
              "      <td>4449.46200</td>\n",
              "    </tr>\n",
              "    <tr>\n",
              "      <th>3</th>\n",
              "      <td>33</td>\n",
              "      <td>male</td>\n",
              "      <td>22.705</td>\n",
              "      <td>0</td>\n",
              "      <td>no</td>\n",
              "      <td>northwest</td>\n",
              "      <td>21984.47061</td>\n",
              "    </tr>\n",
              "    <tr>\n",
              "      <th>4</th>\n",
              "      <td>32</td>\n",
              "      <td>male</td>\n",
              "      <td>28.880</td>\n",
              "      <td>0</td>\n",
              "      <td>no</td>\n",
              "      <td>northwest</td>\n",
              "      <td>3866.85520</td>\n",
              "    </tr>\n",
              "  </tbody>\n",
              "</table>\n",
              "</div>\n",
              "    <div class=\"colab-df-buttons\">\n",
              "\n",
              "  <div class=\"colab-df-container\">\n",
              "    <button class=\"colab-df-convert\" onclick=\"convertToInteractive('df-dca0bb93-c804-4e49-9bba-d4c4c32d0fe0')\"\n",
              "            title=\"Convert this dataframe to an interactive table.\"\n",
              "            style=\"display:none;\">\n",
              "\n",
              "  <svg xmlns=\"http://www.w3.org/2000/svg\" height=\"24px\" viewBox=\"0 -960 960 960\">\n",
              "    <path d=\"M120-120v-720h720v720H120Zm60-500h600v-160H180v160Zm220 220h160v-160H400v160Zm0 220h160v-160H400v160ZM180-400h160v-160H180v160Zm440 0h160v-160H620v160ZM180-180h160v-160H180v160Zm440 0h160v-160H620v160Z\"/>\n",
              "  </svg>\n",
              "    </button>\n",
              "\n",
              "  <style>\n",
              "    .colab-df-container {\n",
              "      display:flex;\n",
              "      gap: 12px;\n",
              "    }\n",
              "\n",
              "    .colab-df-convert {\n",
              "      background-color: #E8F0FE;\n",
              "      border: none;\n",
              "      border-radius: 50%;\n",
              "      cursor: pointer;\n",
              "      display: none;\n",
              "      fill: #1967D2;\n",
              "      height: 32px;\n",
              "      padding: 0 0 0 0;\n",
              "      width: 32px;\n",
              "    }\n",
              "\n",
              "    .colab-df-convert:hover {\n",
              "      background-color: #E2EBFA;\n",
              "      box-shadow: 0px 1px 2px rgba(60, 64, 67, 0.3), 0px 1px 3px 1px rgba(60, 64, 67, 0.15);\n",
              "      fill: #174EA6;\n",
              "    }\n",
              "\n",
              "    .colab-df-buttons div {\n",
              "      margin-bottom: 4px;\n",
              "    }\n",
              "\n",
              "    [theme=dark] .colab-df-convert {\n",
              "      background-color: #3B4455;\n",
              "      fill: #D2E3FC;\n",
              "    }\n",
              "\n",
              "    [theme=dark] .colab-df-convert:hover {\n",
              "      background-color: #434B5C;\n",
              "      box-shadow: 0px 1px 3px 1px rgba(0, 0, 0, 0.15);\n",
              "      filter: drop-shadow(0px 1px 2px rgba(0, 0, 0, 0.3));\n",
              "      fill: #FFFFFF;\n",
              "    }\n",
              "  </style>\n",
              "\n",
              "    <script>\n",
              "      const buttonEl =\n",
              "        document.querySelector('#df-dca0bb93-c804-4e49-9bba-d4c4c32d0fe0 button.colab-df-convert');\n",
              "      buttonEl.style.display =\n",
              "        google.colab.kernel.accessAllowed ? 'block' : 'none';\n",
              "\n",
              "      async function convertToInteractive(key) {\n",
              "        const element = document.querySelector('#df-dca0bb93-c804-4e49-9bba-d4c4c32d0fe0');\n",
              "        const dataTable =\n",
              "          await google.colab.kernel.invokeFunction('convertToInteractive',\n",
              "                                                    [key], {});\n",
              "        if (!dataTable) return;\n",
              "\n",
              "        const docLinkHtml = 'Like what you see? Visit the ' +\n",
              "          '<a target=\"_blank\" href=https://colab.research.google.com/notebooks/data_table.ipynb>data table notebook</a>'\n",
              "          + ' to learn more about interactive tables.';\n",
              "        element.innerHTML = '';\n",
              "        dataTable['output_type'] = 'display_data';\n",
              "        await google.colab.output.renderOutput(dataTable, element);\n",
              "        const docLink = document.createElement('div');\n",
              "        docLink.innerHTML = docLinkHtml;\n",
              "        element.appendChild(docLink);\n",
              "      }\n",
              "    </script>\n",
              "  </div>\n",
              "\n",
              "\n",
              "<div id=\"df-c5abb8e6-dd05-4673-8eec-7dc23ed059cc\">\n",
              "  <button class=\"colab-df-quickchart\" onclick=\"quickchart('df-c5abb8e6-dd05-4673-8eec-7dc23ed059cc')\"\n",
              "            title=\"Suggest charts\"\n",
              "            style=\"display:none;\">\n",
              "\n",
              "<svg xmlns=\"http://www.w3.org/2000/svg\" height=\"24px\"viewBox=\"0 0 24 24\"\n",
              "     width=\"24px\">\n",
              "    <g>\n",
              "        <path d=\"M19 3H5c-1.1 0-2 .9-2 2v14c0 1.1.9 2 2 2h14c1.1 0 2-.9 2-2V5c0-1.1-.9-2-2-2zM9 17H7v-7h2v7zm4 0h-2V7h2v10zm4 0h-2v-4h2v4z\"/>\n",
              "    </g>\n",
              "</svg>\n",
              "  </button>\n",
              "\n",
              "<style>\n",
              "  .colab-df-quickchart {\n",
              "      --bg-color: #E8F0FE;\n",
              "      --fill-color: #1967D2;\n",
              "      --hover-bg-color: #E2EBFA;\n",
              "      --hover-fill-color: #174EA6;\n",
              "      --disabled-fill-color: #AAA;\n",
              "      --disabled-bg-color: #DDD;\n",
              "  }\n",
              "\n",
              "  [theme=dark] .colab-df-quickchart {\n",
              "      --bg-color: #3B4455;\n",
              "      --fill-color: #D2E3FC;\n",
              "      --hover-bg-color: #434B5C;\n",
              "      --hover-fill-color: #FFFFFF;\n",
              "      --disabled-bg-color: #3B4455;\n",
              "      --disabled-fill-color: #666;\n",
              "  }\n",
              "\n",
              "  .colab-df-quickchart {\n",
              "    background-color: var(--bg-color);\n",
              "    border: none;\n",
              "    border-radius: 50%;\n",
              "    cursor: pointer;\n",
              "    display: none;\n",
              "    fill: var(--fill-color);\n",
              "    height: 32px;\n",
              "    padding: 0;\n",
              "    width: 32px;\n",
              "  }\n",
              "\n",
              "  .colab-df-quickchart:hover {\n",
              "    background-color: var(--hover-bg-color);\n",
              "    box-shadow: 0 1px 2px rgba(60, 64, 67, 0.3), 0 1px 3px 1px rgba(60, 64, 67, 0.15);\n",
              "    fill: var(--button-hover-fill-color);\n",
              "  }\n",
              "\n",
              "  .colab-df-quickchart-complete:disabled,\n",
              "  .colab-df-quickchart-complete:disabled:hover {\n",
              "    background-color: var(--disabled-bg-color);\n",
              "    fill: var(--disabled-fill-color);\n",
              "    box-shadow: none;\n",
              "  }\n",
              "\n",
              "  .colab-df-spinner {\n",
              "    border: 2px solid var(--fill-color);\n",
              "    border-color: transparent;\n",
              "    border-bottom-color: var(--fill-color);\n",
              "    animation:\n",
              "      spin 1s steps(1) infinite;\n",
              "  }\n",
              "\n",
              "  @keyframes spin {\n",
              "    0% {\n",
              "      border-color: transparent;\n",
              "      border-bottom-color: var(--fill-color);\n",
              "      border-left-color: var(--fill-color);\n",
              "    }\n",
              "    20% {\n",
              "      border-color: transparent;\n",
              "      border-left-color: var(--fill-color);\n",
              "      border-top-color: var(--fill-color);\n",
              "    }\n",
              "    30% {\n",
              "      border-color: transparent;\n",
              "      border-left-color: var(--fill-color);\n",
              "      border-top-color: var(--fill-color);\n",
              "      border-right-color: var(--fill-color);\n",
              "    }\n",
              "    40% {\n",
              "      border-color: transparent;\n",
              "      border-right-color: var(--fill-color);\n",
              "      border-top-color: var(--fill-color);\n",
              "    }\n",
              "    60% {\n",
              "      border-color: transparent;\n",
              "      border-right-color: var(--fill-color);\n",
              "    }\n",
              "    80% {\n",
              "      border-color: transparent;\n",
              "      border-right-color: var(--fill-color);\n",
              "      border-bottom-color: var(--fill-color);\n",
              "    }\n",
              "    90% {\n",
              "      border-color: transparent;\n",
              "      border-bottom-color: var(--fill-color);\n",
              "    }\n",
              "  }\n",
              "</style>\n",
              "\n",
              "  <script>\n",
              "    async function quickchart(key) {\n",
              "      const quickchartButtonEl =\n",
              "        document.querySelector('#' + key + ' button');\n",
              "      quickchartButtonEl.disabled = true;  // To prevent multiple clicks.\n",
              "      quickchartButtonEl.classList.add('colab-df-spinner');\n",
              "      try {\n",
              "        const charts = await google.colab.kernel.invokeFunction(\n",
              "            'suggestCharts', [key], {});\n",
              "      } catch (error) {\n",
              "        console.error('Error during call to suggestCharts:', error);\n",
              "      }\n",
              "      quickchartButtonEl.classList.remove('colab-df-spinner');\n",
              "      quickchartButtonEl.classList.add('colab-df-quickchart-complete');\n",
              "    }\n",
              "    (() => {\n",
              "      let quickchartButtonEl =\n",
              "        document.querySelector('#df-c5abb8e6-dd05-4673-8eec-7dc23ed059cc button');\n",
              "      quickchartButtonEl.style.display =\n",
              "        google.colab.kernel.accessAllowed ? 'block' : 'none';\n",
              "    })();\n",
              "  </script>\n",
              "</div>\n",
              "    </div>\n",
              "  </div>\n"
            ],
            "application/vnd.google.colaboratory.intrinsic+json": {
              "type": "dataframe",
              "variable_name": "data",
              "summary": "{\n  \"name\": \"data\",\n  \"rows\": 1338,\n  \"fields\": [\n    {\n      \"column\": \"age\",\n      \"properties\": {\n        \"dtype\": \"number\",\n        \"std\": 14,\n        \"min\": 18,\n        \"max\": 64,\n        \"num_unique_values\": 47,\n        \"samples\": [\n          21,\n          45,\n          36\n        ],\n        \"semantic_type\": \"\",\n        \"description\": \"\"\n      }\n    },\n    {\n      \"column\": \"sex\",\n      \"properties\": {\n        \"dtype\": \"category\",\n        \"num_unique_values\": 2,\n        \"samples\": [\n          \"male\",\n          \"female\"\n        ],\n        \"semantic_type\": \"\",\n        \"description\": \"\"\n      }\n    },\n    {\n      \"column\": \"bmi\",\n      \"properties\": {\n        \"dtype\": \"number\",\n        \"std\": 6.098186911679014,\n        \"min\": 15.96,\n        \"max\": 53.13,\n        \"num_unique_values\": 548,\n        \"samples\": [\n          23.18,\n          26.885\n        ],\n        \"semantic_type\": \"\",\n        \"description\": \"\"\n      }\n    },\n    {\n      \"column\": \"children\",\n      \"properties\": {\n        \"dtype\": \"number\",\n        \"std\": 1,\n        \"min\": 0,\n        \"max\": 5,\n        \"num_unique_values\": 6,\n        \"samples\": [\n          0,\n          1\n        ],\n        \"semantic_type\": \"\",\n        \"description\": \"\"\n      }\n    },\n    {\n      \"column\": \"smoker\",\n      \"properties\": {\n        \"dtype\": \"category\",\n        \"num_unique_values\": 2,\n        \"samples\": [\n          \"no\",\n          \"yes\"\n        ],\n        \"semantic_type\": \"\",\n        \"description\": \"\"\n      }\n    },\n    {\n      \"column\": \"region\",\n      \"properties\": {\n        \"dtype\": \"category\",\n        \"num_unique_values\": 4,\n        \"samples\": [\n          \"southeast\",\n          \"northeast\"\n        ],\n        \"semantic_type\": \"\",\n        \"description\": \"\"\n      }\n    },\n    {\n      \"column\": \"charges\",\n      \"properties\": {\n        \"dtype\": \"number\",\n        \"std\": 12110.011236694001,\n        \"min\": 1121.8739,\n        \"max\": 63770.42801,\n        \"num_unique_values\": 1337,\n        \"samples\": [\n          8688.85885,\n          5708.867\n        ],\n        \"semantic_type\": \"\",\n        \"description\": \"\"\n      }\n    }\n  ]\n}"
            }
          },
          "metadata": {},
          "execution_count": 26
        }
      ],
      "source": [
        "data = pd.read_csv('/content/gdrive/MyDrive/Stupen/Deep Learning/insurance.csv')\n",
        "print(data.shape)\n",
        "data.head()"
      ]
    },
    {
      "cell_type": "markdown",
      "source": [
        "Data Cleaning"
      ],
      "metadata": {
        "id": "FOZYc_yMho46"
      }
    },
    {
      "cell_type": "code",
      "execution_count": null,
      "metadata": {
        "id": "URrxVQeer-jL",
        "outputId": "4e2c1a40-af9f-445f-f1ab-ec2a3d98e8de",
        "colab": {
          "base_uri": "https://localhost:8080/"
        }
      },
      "outputs": [
        {
          "output_type": "execute_result",
          "data": {
            "text/plain": [
              "age         0\n",
              "sex         0\n",
              "bmi         0\n",
              "children    0\n",
              "smoker      0\n",
              "region      0\n",
              "charges     0\n",
              "dtype: int64"
            ]
          },
          "metadata": {},
          "execution_count": 27
        }
      ],
      "source": [
        "data.isnull().sum()"
      ]
    },
    {
      "cell_type": "code",
      "source": [
        "data.info()"
      ],
      "metadata": {
        "colab": {
          "base_uri": "https://localhost:8080/"
        },
        "id": "j8eap3LqMw7-",
        "outputId": "2719355d-259c-4878-c2a5-554d2238b2da"
      },
      "execution_count": null,
      "outputs": [
        {
          "output_type": "stream",
          "name": "stdout",
          "text": [
            "<class 'pandas.core.frame.DataFrame'>\n",
            "RangeIndex: 1338 entries, 0 to 1337\n",
            "Data columns (total 7 columns):\n",
            " #   Column    Non-Null Count  Dtype  \n",
            "---  ------    --------------  -----  \n",
            " 0   age       1338 non-null   int64  \n",
            " 1   sex       1338 non-null   object \n",
            " 2   bmi       1338 non-null   float64\n",
            " 3   children  1338 non-null   int64  \n",
            " 4   smoker    1338 non-null   object \n",
            " 5   region    1338 non-null   object \n",
            " 6   charges   1338 non-null   float64\n",
            "dtypes: float64(2), int64(2), object(3)\n",
            "memory usage: 73.3+ KB\n"
          ]
        }
      ]
    },
    {
      "cell_type": "code",
      "source": [
        "from sklearn.preprocessing import LabelEncoder\n",
        "\n",
        "le = LabelEncoder()\n",
        "data[\"sex\"] = le.fit_transform(data[\"sex\"])\n",
        "data[\"smoker\"] = le.fit_transform(data[\"smoker\"])\n",
        "data[\"region\"] = le.fit_transform(data[\"region\"])"
      ],
      "metadata": {
        "id": "ocIGLzvjNtOS"
      },
      "execution_count": null,
      "outputs": []
    },
    {
      "cell_type": "code",
      "source": [
        "data.info()"
      ],
      "metadata": {
        "colab": {
          "base_uri": "https://localhost:8080/"
        },
        "id": "C3mNllQbPQ9Z",
        "outputId": "818b3c23-bb93-460c-ca6a-6373cd9dbd88"
      },
      "execution_count": null,
      "outputs": [
        {
          "output_type": "stream",
          "name": "stdout",
          "text": [
            "<class 'pandas.core.frame.DataFrame'>\n",
            "RangeIndex: 1338 entries, 0 to 1337\n",
            "Data columns (total 7 columns):\n",
            " #   Column    Non-Null Count  Dtype  \n",
            "---  ------    --------------  -----  \n",
            " 0   age       1338 non-null   int64  \n",
            " 1   sex       1338 non-null   int64  \n",
            " 2   bmi       1338 non-null   float64\n",
            " 3   children  1338 non-null   int64  \n",
            " 4   smoker    1338 non-null   int64  \n",
            " 5   region    1338 non-null   int64  \n",
            " 6   charges   1338 non-null   float64\n",
            "dtypes: float64(2), int64(5)\n",
            "memory usage: 73.3 KB\n"
          ]
        }
      ]
    },
    {
      "cell_type": "code",
      "source": [
        "data.head()"
      ],
      "metadata": {
        "colab": {
          "base_uri": "https://localhost:8080/",
          "height": 206
        },
        "id": "tWsHtUl1P-xd",
        "outputId": "a264bae2-8d1b-4d41-ce7b-6524106b1852"
      },
      "execution_count": null,
      "outputs": [
        {
          "output_type": "execute_result",
          "data": {
            "text/plain": [
              "   age  sex     bmi  children  smoker  region      charges\n",
              "0   19    0  27.900         0       1       3  16884.92400\n",
              "1   18    1  33.770         1       0       2   1725.55230\n",
              "2   28    1  33.000         3       0       2   4449.46200\n",
              "3   33    1  22.705         0       0       1  21984.47061\n",
              "4   32    1  28.880         0       0       1   3866.85520"
            ],
            "text/html": [
              "\n",
              "  <div id=\"df-adcbfa77-e35d-410a-a961-c226aab2fe56\" class=\"colab-df-container\">\n",
              "    <div>\n",
              "<style scoped>\n",
              "    .dataframe tbody tr th:only-of-type {\n",
              "        vertical-align: middle;\n",
              "    }\n",
              "\n",
              "    .dataframe tbody tr th {\n",
              "        vertical-align: top;\n",
              "    }\n",
              "\n",
              "    .dataframe thead th {\n",
              "        text-align: right;\n",
              "    }\n",
              "</style>\n",
              "<table border=\"1\" class=\"dataframe\">\n",
              "  <thead>\n",
              "    <tr style=\"text-align: right;\">\n",
              "      <th></th>\n",
              "      <th>age</th>\n",
              "      <th>sex</th>\n",
              "      <th>bmi</th>\n",
              "      <th>children</th>\n",
              "      <th>smoker</th>\n",
              "      <th>region</th>\n",
              "      <th>charges</th>\n",
              "    </tr>\n",
              "  </thead>\n",
              "  <tbody>\n",
              "    <tr>\n",
              "      <th>0</th>\n",
              "      <td>19</td>\n",
              "      <td>0</td>\n",
              "      <td>27.900</td>\n",
              "      <td>0</td>\n",
              "      <td>1</td>\n",
              "      <td>3</td>\n",
              "      <td>16884.92400</td>\n",
              "    </tr>\n",
              "    <tr>\n",
              "      <th>1</th>\n",
              "      <td>18</td>\n",
              "      <td>1</td>\n",
              "      <td>33.770</td>\n",
              "      <td>1</td>\n",
              "      <td>0</td>\n",
              "      <td>2</td>\n",
              "      <td>1725.55230</td>\n",
              "    </tr>\n",
              "    <tr>\n",
              "      <th>2</th>\n",
              "      <td>28</td>\n",
              "      <td>1</td>\n",
              "      <td>33.000</td>\n",
              "      <td>3</td>\n",
              "      <td>0</td>\n",
              "      <td>2</td>\n",
              "      <td>4449.46200</td>\n",
              "    </tr>\n",
              "    <tr>\n",
              "      <th>3</th>\n",
              "      <td>33</td>\n",
              "      <td>1</td>\n",
              "      <td>22.705</td>\n",
              "      <td>0</td>\n",
              "      <td>0</td>\n",
              "      <td>1</td>\n",
              "      <td>21984.47061</td>\n",
              "    </tr>\n",
              "    <tr>\n",
              "      <th>4</th>\n",
              "      <td>32</td>\n",
              "      <td>1</td>\n",
              "      <td>28.880</td>\n",
              "      <td>0</td>\n",
              "      <td>0</td>\n",
              "      <td>1</td>\n",
              "      <td>3866.85520</td>\n",
              "    </tr>\n",
              "  </tbody>\n",
              "</table>\n",
              "</div>\n",
              "    <div class=\"colab-df-buttons\">\n",
              "\n",
              "  <div class=\"colab-df-container\">\n",
              "    <button class=\"colab-df-convert\" onclick=\"convertToInteractive('df-adcbfa77-e35d-410a-a961-c226aab2fe56')\"\n",
              "            title=\"Convert this dataframe to an interactive table.\"\n",
              "            style=\"display:none;\">\n",
              "\n",
              "  <svg xmlns=\"http://www.w3.org/2000/svg\" height=\"24px\" viewBox=\"0 -960 960 960\">\n",
              "    <path d=\"M120-120v-720h720v720H120Zm60-500h600v-160H180v160Zm220 220h160v-160H400v160Zm0 220h160v-160H400v160ZM180-400h160v-160H180v160Zm440 0h160v-160H620v160ZM180-180h160v-160H180v160Zm440 0h160v-160H620v160Z\"/>\n",
              "  </svg>\n",
              "    </button>\n",
              "\n",
              "  <style>\n",
              "    .colab-df-container {\n",
              "      display:flex;\n",
              "      gap: 12px;\n",
              "    }\n",
              "\n",
              "    .colab-df-convert {\n",
              "      background-color: #E8F0FE;\n",
              "      border: none;\n",
              "      border-radius: 50%;\n",
              "      cursor: pointer;\n",
              "      display: none;\n",
              "      fill: #1967D2;\n",
              "      height: 32px;\n",
              "      padding: 0 0 0 0;\n",
              "      width: 32px;\n",
              "    }\n",
              "\n",
              "    .colab-df-convert:hover {\n",
              "      background-color: #E2EBFA;\n",
              "      box-shadow: 0px 1px 2px rgba(60, 64, 67, 0.3), 0px 1px 3px 1px rgba(60, 64, 67, 0.15);\n",
              "      fill: #174EA6;\n",
              "    }\n",
              "\n",
              "    .colab-df-buttons div {\n",
              "      margin-bottom: 4px;\n",
              "    }\n",
              "\n",
              "    [theme=dark] .colab-df-convert {\n",
              "      background-color: #3B4455;\n",
              "      fill: #D2E3FC;\n",
              "    }\n",
              "\n",
              "    [theme=dark] .colab-df-convert:hover {\n",
              "      background-color: #434B5C;\n",
              "      box-shadow: 0px 1px 3px 1px rgba(0, 0, 0, 0.15);\n",
              "      filter: drop-shadow(0px 1px 2px rgba(0, 0, 0, 0.3));\n",
              "      fill: #FFFFFF;\n",
              "    }\n",
              "  </style>\n",
              "\n",
              "    <script>\n",
              "      const buttonEl =\n",
              "        document.querySelector('#df-adcbfa77-e35d-410a-a961-c226aab2fe56 button.colab-df-convert');\n",
              "      buttonEl.style.display =\n",
              "        google.colab.kernel.accessAllowed ? 'block' : 'none';\n",
              "\n",
              "      async function convertToInteractive(key) {\n",
              "        const element = document.querySelector('#df-adcbfa77-e35d-410a-a961-c226aab2fe56');\n",
              "        const dataTable =\n",
              "          await google.colab.kernel.invokeFunction('convertToInteractive',\n",
              "                                                    [key], {});\n",
              "        if (!dataTable) return;\n",
              "\n",
              "        const docLinkHtml = 'Like what you see? Visit the ' +\n",
              "          '<a target=\"_blank\" href=https://colab.research.google.com/notebooks/data_table.ipynb>data table notebook</a>'\n",
              "          + ' to learn more about interactive tables.';\n",
              "        element.innerHTML = '';\n",
              "        dataTable['output_type'] = 'display_data';\n",
              "        await google.colab.output.renderOutput(dataTable, element);\n",
              "        const docLink = document.createElement('div');\n",
              "        docLink.innerHTML = docLinkHtml;\n",
              "        element.appendChild(docLink);\n",
              "      }\n",
              "    </script>\n",
              "  </div>\n",
              "\n",
              "\n",
              "<div id=\"df-ed27cebf-9212-4755-adc7-0d143c1f15cf\">\n",
              "  <button class=\"colab-df-quickchart\" onclick=\"quickchart('df-ed27cebf-9212-4755-adc7-0d143c1f15cf')\"\n",
              "            title=\"Suggest charts\"\n",
              "            style=\"display:none;\">\n",
              "\n",
              "<svg xmlns=\"http://www.w3.org/2000/svg\" height=\"24px\"viewBox=\"0 0 24 24\"\n",
              "     width=\"24px\">\n",
              "    <g>\n",
              "        <path d=\"M19 3H5c-1.1 0-2 .9-2 2v14c0 1.1.9 2 2 2h14c1.1 0 2-.9 2-2V5c0-1.1-.9-2-2-2zM9 17H7v-7h2v7zm4 0h-2V7h2v10zm4 0h-2v-4h2v4z\"/>\n",
              "    </g>\n",
              "</svg>\n",
              "  </button>\n",
              "\n",
              "<style>\n",
              "  .colab-df-quickchart {\n",
              "      --bg-color: #E8F0FE;\n",
              "      --fill-color: #1967D2;\n",
              "      --hover-bg-color: #E2EBFA;\n",
              "      --hover-fill-color: #174EA6;\n",
              "      --disabled-fill-color: #AAA;\n",
              "      --disabled-bg-color: #DDD;\n",
              "  }\n",
              "\n",
              "  [theme=dark] .colab-df-quickchart {\n",
              "      --bg-color: #3B4455;\n",
              "      --fill-color: #D2E3FC;\n",
              "      --hover-bg-color: #434B5C;\n",
              "      --hover-fill-color: #FFFFFF;\n",
              "      --disabled-bg-color: #3B4455;\n",
              "      --disabled-fill-color: #666;\n",
              "  }\n",
              "\n",
              "  .colab-df-quickchart {\n",
              "    background-color: var(--bg-color);\n",
              "    border: none;\n",
              "    border-radius: 50%;\n",
              "    cursor: pointer;\n",
              "    display: none;\n",
              "    fill: var(--fill-color);\n",
              "    height: 32px;\n",
              "    padding: 0;\n",
              "    width: 32px;\n",
              "  }\n",
              "\n",
              "  .colab-df-quickchart:hover {\n",
              "    background-color: var(--hover-bg-color);\n",
              "    box-shadow: 0 1px 2px rgba(60, 64, 67, 0.3), 0 1px 3px 1px rgba(60, 64, 67, 0.15);\n",
              "    fill: var(--button-hover-fill-color);\n",
              "  }\n",
              "\n",
              "  .colab-df-quickchart-complete:disabled,\n",
              "  .colab-df-quickchart-complete:disabled:hover {\n",
              "    background-color: var(--disabled-bg-color);\n",
              "    fill: var(--disabled-fill-color);\n",
              "    box-shadow: none;\n",
              "  }\n",
              "\n",
              "  .colab-df-spinner {\n",
              "    border: 2px solid var(--fill-color);\n",
              "    border-color: transparent;\n",
              "    border-bottom-color: var(--fill-color);\n",
              "    animation:\n",
              "      spin 1s steps(1) infinite;\n",
              "  }\n",
              "\n",
              "  @keyframes spin {\n",
              "    0% {\n",
              "      border-color: transparent;\n",
              "      border-bottom-color: var(--fill-color);\n",
              "      border-left-color: var(--fill-color);\n",
              "    }\n",
              "    20% {\n",
              "      border-color: transparent;\n",
              "      border-left-color: var(--fill-color);\n",
              "      border-top-color: var(--fill-color);\n",
              "    }\n",
              "    30% {\n",
              "      border-color: transparent;\n",
              "      border-left-color: var(--fill-color);\n",
              "      border-top-color: var(--fill-color);\n",
              "      border-right-color: var(--fill-color);\n",
              "    }\n",
              "    40% {\n",
              "      border-color: transparent;\n",
              "      border-right-color: var(--fill-color);\n",
              "      border-top-color: var(--fill-color);\n",
              "    }\n",
              "    60% {\n",
              "      border-color: transparent;\n",
              "      border-right-color: var(--fill-color);\n",
              "    }\n",
              "    80% {\n",
              "      border-color: transparent;\n",
              "      border-right-color: var(--fill-color);\n",
              "      border-bottom-color: var(--fill-color);\n",
              "    }\n",
              "    90% {\n",
              "      border-color: transparent;\n",
              "      border-bottom-color: var(--fill-color);\n",
              "    }\n",
              "  }\n",
              "</style>\n",
              "\n",
              "  <script>\n",
              "    async function quickchart(key) {\n",
              "      const quickchartButtonEl =\n",
              "        document.querySelector('#' + key + ' button');\n",
              "      quickchartButtonEl.disabled = true;  // To prevent multiple clicks.\n",
              "      quickchartButtonEl.classList.add('colab-df-spinner');\n",
              "      try {\n",
              "        const charts = await google.colab.kernel.invokeFunction(\n",
              "            'suggestCharts', [key], {});\n",
              "      } catch (error) {\n",
              "        console.error('Error during call to suggestCharts:', error);\n",
              "      }\n",
              "      quickchartButtonEl.classList.remove('colab-df-spinner');\n",
              "      quickchartButtonEl.classList.add('colab-df-quickchart-complete');\n",
              "    }\n",
              "    (() => {\n",
              "      let quickchartButtonEl =\n",
              "        document.querySelector('#df-ed27cebf-9212-4755-adc7-0d143c1f15cf button');\n",
              "      quickchartButtonEl.style.display =\n",
              "        google.colab.kernel.accessAllowed ? 'block' : 'none';\n",
              "    })();\n",
              "  </script>\n",
              "</div>\n",
              "    </div>\n",
              "  </div>\n"
            ],
            "application/vnd.google.colaboratory.intrinsic+json": {
              "type": "dataframe",
              "variable_name": "data",
              "summary": "{\n  \"name\": \"data\",\n  \"rows\": 1338,\n  \"fields\": [\n    {\n      \"column\": \"age\",\n      \"properties\": {\n        \"dtype\": \"number\",\n        \"std\": 14,\n        \"min\": 18,\n        \"max\": 64,\n        \"num_unique_values\": 47,\n        \"samples\": [\n          21,\n          45,\n          36\n        ],\n        \"semantic_type\": \"\",\n        \"description\": \"\"\n      }\n    },\n    {\n      \"column\": \"sex\",\n      \"properties\": {\n        \"dtype\": \"number\",\n        \"std\": 0,\n        \"min\": 0,\n        \"max\": 1,\n        \"num_unique_values\": 2,\n        \"samples\": [\n          1,\n          0\n        ],\n        \"semantic_type\": \"\",\n        \"description\": \"\"\n      }\n    },\n    {\n      \"column\": \"bmi\",\n      \"properties\": {\n        \"dtype\": \"number\",\n        \"std\": 6.098186911679014,\n        \"min\": 15.96,\n        \"max\": 53.13,\n        \"num_unique_values\": 548,\n        \"samples\": [\n          23.18,\n          26.885\n        ],\n        \"semantic_type\": \"\",\n        \"description\": \"\"\n      }\n    },\n    {\n      \"column\": \"children\",\n      \"properties\": {\n        \"dtype\": \"number\",\n        \"std\": 1,\n        \"min\": 0,\n        \"max\": 5,\n        \"num_unique_values\": 6,\n        \"samples\": [\n          0,\n          1\n        ],\n        \"semantic_type\": \"\",\n        \"description\": \"\"\n      }\n    },\n    {\n      \"column\": \"smoker\",\n      \"properties\": {\n        \"dtype\": \"number\",\n        \"std\": 0,\n        \"min\": 0,\n        \"max\": 1,\n        \"num_unique_values\": 2,\n        \"samples\": [\n          0,\n          1\n        ],\n        \"semantic_type\": \"\",\n        \"description\": \"\"\n      }\n    },\n    {\n      \"column\": \"region\",\n      \"properties\": {\n        \"dtype\": \"number\",\n        \"std\": 1,\n        \"min\": 0,\n        \"max\": 3,\n        \"num_unique_values\": 4,\n        \"samples\": [\n          2,\n          0\n        ],\n        \"semantic_type\": \"\",\n        \"description\": \"\"\n      }\n    },\n    {\n      \"column\": \"charges\",\n      \"properties\": {\n        \"dtype\": \"number\",\n        \"std\": 12110.011236694001,\n        \"min\": 1121.8739,\n        \"max\": 63770.42801,\n        \"num_unique_values\": 1337,\n        \"samples\": [\n          8688.85885,\n          5708.867\n        ],\n        \"semantic_type\": \"\",\n        \"description\": \"\"\n      }\n    }\n  ]\n}"
            }
          },
          "metadata": {},
          "execution_count": 31
        }
      ]
    },
    {
      "cell_type": "markdown",
      "metadata": {
        "id": "tsJOY8cLr-jY"
      },
      "source": [
        "Univariate Analysis"
      ]
    },
    {
      "cell_type": "code",
      "execution_count": null,
      "metadata": {
        "id": "ci7TGS_cr-ja",
        "outputId": "5a08ca8f-c87a-4e9f-e287-2c4abcb6cab0",
        "colab": {
          "base_uri": "https://localhost:8080/",
          "height": 300
        }
      },
      "outputs": [
        {
          "output_type": "execute_result",
          "data": {
            "text/plain": [
              "               age          sex          bmi     children       smoker  \\\n",
              "count  1338.000000  1338.000000  1338.000000  1338.000000  1338.000000   \n",
              "mean     39.207025     0.505232    30.663397     1.094918     0.204783   \n",
              "std      14.049960     0.500160     6.098187     1.205493     0.403694   \n",
              "min      18.000000     0.000000    15.960000     0.000000     0.000000   \n",
              "25%      27.000000     0.000000    26.296250     0.000000     0.000000   \n",
              "50%      39.000000     1.000000    30.400000     1.000000     0.000000   \n",
              "75%      51.000000     1.000000    34.693750     2.000000     0.000000   \n",
              "max      64.000000     1.000000    53.130000     5.000000     1.000000   \n",
              "\n",
              "            region       charges  \n",
              "count  1338.000000   1338.000000  \n",
              "mean      1.515695  13270.422265  \n",
              "std       1.104885  12110.011237  \n",
              "min       0.000000   1121.873900  \n",
              "25%       1.000000   4740.287150  \n",
              "50%       2.000000   9382.033000  \n",
              "75%       2.000000  16639.912515  \n",
              "max       3.000000  63770.428010  "
            ],
            "text/html": [
              "\n",
              "  <div id=\"df-cfb6b375-4c7a-452f-86bf-22c593720296\" class=\"colab-df-container\">\n",
              "    <div>\n",
              "<style scoped>\n",
              "    .dataframe tbody tr th:only-of-type {\n",
              "        vertical-align: middle;\n",
              "    }\n",
              "\n",
              "    .dataframe tbody tr th {\n",
              "        vertical-align: top;\n",
              "    }\n",
              "\n",
              "    .dataframe thead th {\n",
              "        text-align: right;\n",
              "    }\n",
              "</style>\n",
              "<table border=\"1\" class=\"dataframe\">\n",
              "  <thead>\n",
              "    <tr style=\"text-align: right;\">\n",
              "      <th></th>\n",
              "      <th>age</th>\n",
              "      <th>sex</th>\n",
              "      <th>bmi</th>\n",
              "      <th>children</th>\n",
              "      <th>smoker</th>\n",
              "      <th>region</th>\n",
              "      <th>charges</th>\n",
              "    </tr>\n",
              "  </thead>\n",
              "  <tbody>\n",
              "    <tr>\n",
              "      <th>count</th>\n",
              "      <td>1338.000000</td>\n",
              "      <td>1338.000000</td>\n",
              "      <td>1338.000000</td>\n",
              "      <td>1338.000000</td>\n",
              "      <td>1338.000000</td>\n",
              "      <td>1338.000000</td>\n",
              "      <td>1338.000000</td>\n",
              "    </tr>\n",
              "    <tr>\n",
              "      <th>mean</th>\n",
              "      <td>39.207025</td>\n",
              "      <td>0.505232</td>\n",
              "      <td>30.663397</td>\n",
              "      <td>1.094918</td>\n",
              "      <td>0.204783</td>\n",
              "      <td>1.515695</td>\n",
              "      <td>13270.422265</td>\n",
              "    </tr>\n",
              "    <tr>\n",
              "      <th>std</th>\n",
              "      <td>14.049960</td>\n",
              "      <td>0.500160</td>\n",
              "      <td>6.098187</td>\n",
              "      <td>1.205493</td>\n",
              "      <td>0.403694</td>\n",
              "      <td>1.104885</td>\n",
              "      <td>12110.011237</td>\n",
              "    </tr>\n",
              "    <tr>\n",
              "      <th>min</th>\n",
              "      <td>18.000000</td>\n",
              "      <td>0.000000</td>\n",
              "      <td>15.960000</td>\n",
              "      <td>0.000000</td>\n",
              "      <td>0.000000</td>\n",
              "      <td>0.000000</td>\n",
              "      <td>1121.873900</td>\n",
              "    </tr>\n",
              "    <tr>\n",
              "      <th>25%</th>\n",
              "      <td>27.000000</td>\n",
              "      <td>0.000000</td>\n",
              "      <td>26.296250</td>\n",
              "      <td>0.000000</td>\n",
              "      <td>0.000000</td>\n",
              "      <td>1.000000</td>\n",
              "      <td>4740.287150</td>\n",
              "    </tr>\n",
              "    <tr>\n",
              "      <th>50%</th>\n",
              "      <td>39.000000</td>\n",
              "      <td>1.000000</td>\n",
              "      <td>30.400000</td>\n",
              "      <td>1.000000</td>\n",
              "      <td>0.000000</td>\n",
              "      <td>2.000000</td>\n",
              "      <td>9382.033000</td>\n",
              "    </tr>\n",
              "    <tr>\n",
              "      <th>75%</th>\n",
              "      <td>51.000000</td>\n",
              "      <td>1.000000</td>\n",
              "      <td>34.693750</td>\n",
              "      <td>2.000000</td>\n",
              "      <td>0.000000</td>\n",
              "      <td>2.000000</td>\n",
              "      <td>16639.912515</td>\n",
              "    </tr>\n",
              "    <tr>\n",
              "      <th>max</th>\n",
              "      <td>64.000000</td>\n",
              "      <td>1.000000</td>\n",
              "      <td>53.130000</td>\n",
              "      <td>5.000000</td>\n",
              "      <td>1.000000</td>\n",
              "      <td>3.000000</td>\n",
              "      <td>63770.428010</td>\n",
              "    </tr>\n",
              "  </tbody>\n",
              "</table>\n",
              "</div>\n",
              "    <div class=\"colab-df-buttons\">\n",
              "\n",
              "  <div class=\"colab-df-container\">\n",
              "    <button class=\"colab-df-convert\" onclick=\"convertToInteractive('df-cfb6b375-4c7a-452f-86bf-22c593720296')\"\n",
              "            title=\"Convert this dataframe to an interactive table.\"\n",
              "            style=\"display:none;\">\n",
              "\n",
              "  <svg xmlns=\"http://www.w3.org/2000/svg\" height=\"24px\" viewBox=\"0 -960 960 960\">\n",
              "    <path d=\"M120-120v-720h720v720H120Zm60-500h600v-160H180v160Zm220 220h160v-160H400v160Zm0 220h160v-160H400v160ZM180-400h160v-160H180v160Zm440 0h160v-160H620v160ZM180-180h160v-160H180v160Zm440 0h160v-160H620v160Z\"/>\n",
              "  </svg>\n",
              "    </button>\n",
              "\n",
              "  <style>\n",
              "    .colab-df-container {\n",
              "      display:flex;\n",
              "      gap: 12px;\n",
              "    }\n",
              "\n",
              "    .colab-df-convert {\n",
              "      background-color: #E8F0FE;\n",
              "      border: none;\n",
              "      border-radius: 50%;\n",
              "      cursor: pointer;\n",
              "      display: none;\n",
              "      fill: #1967D2;\n",
              "      height: 32px;\n",
              "      padding: 0 0 0 0;\n",
              "      width: 32px;\n",
              "    }\n",
              "\n",
              "    .colab-df-convert:hover {\n",
              "      background-color: #E2EBFA;\n",
              "      box-shadow: 0px 1px 2px rgba(60, 64, 67, 0.3), 0px 1px 3px 1px rgba(60, 64, 67, 0.15);\n",
              "      fill: #174EA6;\n",
              "    }\n",
              "\n",
              "    .colab-df-buttons div {\n",
              "      margin-bottom: 4px;\n",
              "    }\n",
              "\n",
              "    [theme=dark] .colab-df-convert {\n",
              "      background-color: #3B4455;\n",
              "      fill: #D2E3FC;\n",
              "    }\n",
              "\n",
              "    [theme=dark] .colab-df-convert:hover {\n",
              "      background-color: #434B5C;\n",
              "      box-shadow: 0px 1px 3px 1px rgba(0, 0, 0, 0.15);\n",
              "      filter: drop-shadow(0px 1px 2px rgba(0, 0, 0, 0.3));\n",
              "      fill: #FFFFFF;\n",
              "    }\n",
              "  </style>\n",
              "\n",
              "    <script>\n",
              "      const buttonEl =\n",
              "        document.querySelector('#df-cfb6b375-4c7a-452f-86bf-22c593720296 button.colab-df-convert');\n",
              "      buttonEl.style.display =\n",
              "        google.colab.kernel.accessAllowed ? 'block' : 'none';\n",
              "\n",
              "      async function convertToInteractive(key) {\n",
              "        const element = document.querySelector('#df-cfb6b375-4c7a-452f-86bf-22c593720296');\n",
              "        const dataTable =\n",
              "          await google.colab.kernel.invokeFunction('convertToInteractive',\n",
              "                                                    [key], {});\n",
              "        if (!dataTable) return;\n",
              "\n",
              "        const docLinkHtml = 'Like what you see? Visit the ' +\n",
              "          '<a target=\"_blank\" href=https://colab.research.google.com/notebooks/data_table.ipynb>data table notebook</a>'\n",
              "          + ' to learn more about interactive tables.';\n",
              "        element.innerHTML = '';\n",
              "        dataTable['output_type'] = 'display_data';\n",
              "        await google.colab.output.renderOutput(dataTable, element);\n",
              "        const docLink = document.createElement('div');\n",
              "        docLink.innerHTML = docLinkHtml;\n",
              "        element.appendChild(docLink);\n",
              "      }\n",
              "    </script>\n",
              "  </div>\n",
              "\n",
              "\n",
              "<div id=\"df-e9b08f4b-6594-4b68-adc9-5c0af66469ad\">\n",
              "  <button class=\"colab-df-quickchart\" onclick=\"quickchart('df-e9b08f4b-6594-4b68-adc9-5c0af66469ad')\"\n",
              "            title=\"Suggest charts\"\n",
              "            style=\"display:none;\">\n",
              "\n",
              "<svg xmlns=\"http://www.w3.org/2000/svg\" height=\"24px\"viewBox=\"0 0 24 24\"\n",
              "     width=\"24px\">\n",
              "    <g>\n",
              "        <path d=\"M19 3H5c-1.1 0-2 .9-2 2v14c0 1.1.9 2 2 2h14c1.1 0 2-.9 2-2V5c0-1.1-.9-2-2-2zM9 17H7v-7h2v7zm4 0h-2V7h2v10zm4 0h-2v-4h2v4z\"/>\n",
              "    </g>\n",
              "</svg>\n",
              "  </button>\n",
              "\n",
              "<style>\n",
              "  .colab-df-quickchart {\n",
              "      --bg-color: #E8F0FE;\n",
              "      --fill-color: #1967D2;\n",
              "      --hover-bg-color: #E2EBFA;\n",
              "      --hover-fill-color: #174EA6;\n",
              "      --disabled-fill-color: #AAA;\n",
              "      --disabled-bg-color: #DDD;\n",
              "  }\n",
              "\n",
              "  [theme=dark] .colab-df-quickchart {\n",
              "      --bg-color: #3B4455;\n",
              "      --fill-color: #D2E3FC;\n",
              "      --hover-bg-color: #434B5C;\n",
              "      --hover-fill-color: #FFFFFF;\n",
              "      --disabled-bg-color: #3B4455;\n",
              "      --disabled-fill-color: #666;\n",
              "  }\n",
              "\n",
              "  .colab-df-quickchart {\n",
              "    background-color: var(--bg-color);\n",
              "    border: none;\n",
              "    border-radius: 50%;\n",
              "    cursor: pointer;\n",
              "    display: none;\n",
              "    fill: var(--fill-color);\n",
              "    height: 32px;\n",
              "    padding: 0;\n",
              "    width: 32px;\n",
              "  }\n",
              "\n",
              "  .colab-df-quickchart:hover {\n",
              "    background-color: var(--hover-bg-color);\n",
              "    box-shadow: 0 1px 2px rgba(60, 64, 67, 0.3), 0 1px 3px 1px rgba(60, 64, 67, 0.15);\n",
              "    fill: var(--button-hover-fill-color);\n",
              "  }\n",
              "\n",
              "  .colab-df-quickchart-complete:disabled,\n",
              "  .colab-df-quickchart-complete:disabled:hover {\n",
              "    background-color: var(--disabled-bg-color);\n",
              "    fill: var(--disabled-fill-color);\n",
              "    box-shadow: none;\n",
              "  }\n",
              "\n",
              "  .colab-df-spinner {\n",
              "    border: 2px solid var(--fill-color);\n",
              "    border-color: transparent;\n",
              "    border-bottom-color: var(--fill-color);\n",
              "    animation:\n",
              "      spin 1s steps(1) infinite;\n",
              "  }\n",
              "\n",
              "  @keyframes spin {\n",
              "    0% {\n",
              "      border-color: transparent;\n",
              "      border-bottom-color: var(--fill-color);\n",
              "      border-left-color: var(--fill-color);\n",
              "    }\n",
              "    20% {\n",
              "      border-color: transparent;\n",
              "      border-left-color: var(--fill-color);\n",
              "      border-top-color: var(--fill-color);\n",
              "    }\n",
              "    30% {\n",
              "      border-color: transparent;\n",
              "      border-left-color: var(--fill-color);\n",
              "      border-top-color: var(--fill-color);\n",
              "      border-right-color: var(--fill-color);\n",
              "    }\n",
              "    40% {\n",
              "      border-color: transparent;\n",
              "      border-right-color: var(--fill-color);\n",
              "      border-top-color: var(--fill-color);\n",
              "    }\n",
              "    60% {\n",
              "      border-color: transparent;\n",
              "      border-right-color: var(--fill-color);\n",
              "    }\n",
              "    80% {\n",
              "      border-color: transparent;\n",
              "      border-right-color: var(--fill-color);\n",
              "      border-bottom-color: var(--fill-color);\n",
              "    }\n",
              "    90% {\n",
              "      border-color: transparent;\n",
              "      border-bottom-color: var(--fill-color);\n",
              "    }\n",
              "  }\n",
              "</style>\n",
              "\n",
              "  <script>\n",
              "    async function quickchart(key) {\n",
              "      const quickchartButtonEl =\n",
              "        document.querySelector('#' + key + ' button');\n",
              "      quickchartButtonEl.disabled = true;  // To prevent multiple clicks.\n",
              "      quickchartButtonEl.classList.add('colab-df-spinner');\n",
              "      try {\n",
              "        const charts = await google.colab.kernel.invokeFunction(\n",
              "            'suggestCharts', [key], {});\n",
              "      } catch (error) {\n",
              "        console.error('Error during call to suggestCharts:', error);\n",
              "      }\n",
              "      quickchartButtonEl.classList.remove('colab-df-spinner');\n",
              "      quickchartButtonEl.classList.add('colab-df-quickchart-complete');\n",
              "    }\n",
              "    (() => {\n",
              "      let quickchartButtonEl =\n",
              "        document.querySelector('#df-e9b08f4b-6594-4b68-adc9-5c0af66469ad button');\n",
              "      quickchartButtonEl.style.display =\n",
              "        google.colab.kernel.accessAllowed ? 'block' : 'none';\n",
              "    })();\n",
              "  </script>\n",
              "</div>\n",
              "    </div>\n",
              "  </div>\n"
            ],
            "application/vnd.google.colaboratory.intrinsic+json": {
              "type": "dataframe",
              "summary": "{\n  \"name\": \"data\",\n  \"rows\": 8,\n  \"fields\": [\n    {\n      \"column\": \"age\",\n      \"properties\": {\n        \"dtype\": \"number\",\n        \"std\": 460.6106090399993,\n        \"min\": 14.049960379216154,\n        \"max\": 1338.0,\n        \"num_unique_values\": 8,\n        \"samples\": [\n          39.20702541106129,\n          39.0,\n          1338.0\n        ],\n        \"semantic_type\": \"\",\n        \"description\": \"\"\n      }\n    },\n    {\n      \"column\": \"sex\",\n      \"properties\": {\n        \"dtype\": \"number\",\n        \"std\": 472.8523171211429,\n        \"min\": 0.0,\n        \"max\": 1338.0,\n        \"num_unique_values\": 5,\n        \"samples\": [\n          0.5052316890881914,\n          1.0,\n          0.500159569284377\n        ],\n        \"semantic_type\": \"\",\n        \"description\": \"\"\n      }\n    },\n    {\n      \"column\": \"bmi\",\n      \"properties\": {\n        \"dtype\": \"number\",\n        \"std\": 463.29524977918294,\n        \"min\": 6.098186911679014,\n        \"max\": 1338.0,\n        \"num_unique_values\": 8,\n        \"samples\": [\n          30.66339686098655,\n          30.4,\n          1338.0\n        ],\n        \"semantic_type\": \"\",\n        \"description\": \"\"\n      }\n    },\n    {\n      \"column\": \"children\",\n      \"properties\": {\n        \"dtype\": \"number\",\n        \"std\": 472.5368318870757,\n        \"min\": 0.0,\n        \"max\": 1338.0,\n        \"num_unique_values\": 7,\n        \"samples\": [\n          1338.0,\n          1.0949177877429,\n          2.0\n        ],\n        \"semantic_type\": \"\",\n        \"description\": \"\"\n      }\n    },\n    {\n      \"column\": \"smoker\",\n      \"properties\": {\n        \"dtype\": \"number\",\n        \"std\": 472.9733223901743,\n        \"min\": 0.0,\n        \"max\": 1338.0,\n        \"num_unique_values\": 5,\n        \"samples\": [\n          0.20478325859491778,\n          1.0,\n          0.4036940375456173\n        ],\n        \"semantic_type\": \"\",\n        \"description\": \"\"\n      }\n    },\n    {\n      \"column\": \"region\",\n      \"properties\": {\n        \"dtype\": \"number\",\n        \"std\": 472.5188332614071,\n        \"min\": 0.0,\n        \"max\": 1338.0,\n        \"num_unique_values\": 7,\n        \"samples\": [\n          1338.0,\n          1.515695067264574,\n          2.0\n        ],\n        \"semantic_type\": \"\",\n        \"description\": \"\"\n      }\n    },\n    {\n      \"column\": \"charges\",\n      \"properties\": {\n        \"dtype\": \"number\",\n        \"std\": 20381.922846226596,\n        \"min\": 1121.8739,\n        \"max\": 63770.42801,\n        \"num_unique_values\": 8,\n        \"samples\": [\n          13270.422265141257,\n          9382.033,\n          1338.0\n        ],\n        \"semantic_type\": \"\",\n        \"description\": \"\"\n      }\n    }\n  ]\n}"
            }
          },
          "metadata": {},
          "execution_count": 32
        }
      ],
      "source": [
        "data.describe()"
      ]
    },
    {
      "cell_type": "code",
      "source": [
        "data['charges'].mode()"
      ],
      "metadata": {
        "colab": {
          "base_uri": "https://localhost:8080/"
        },
        "id": "fUSxn9M9ztzl",
        "outputId": "cfd1a897-ba3c-497d-e36e-edc24c94ee0c"
      },
      "execution_count": null,
      "outputs": [
        {
          "output_type": "execute_result",
          "data": {
            "text/plain": [
              "0    1639.5631\n",
              "Name: charges, dtype: float64"
            ]
          },
          "metadata": {},
          "execution_count": 33
        }
      ]
    },
    {
      "cell_type": "code",
      "source": [
        "data.charges.sort_values(ascending=False)[:10]"
      ],
      "metadata": {
        "colab": {
          "base_uri": "https://localhost:8080/"
        },
        "id": "w8cwBQsxzvm4",
        "outputId": "ef997567-7bd6-4156-a768-91f5c624d6f9"
      },
      "execution_count": null,
      "outputs": [
        {
          "output_type": "execute_result",
          "data": {
            "text/plain": [
              "543     63770.42801\n",
              "1300    62592.87309\n",
              "1230    60021.39897\n",
              "577     58571.07448\n",
              "819     55135.40209\n",
              "1146    52590.82939\n",
              "34      51194.55914\n",
              "1241    49577.66240\n",
              "1062    48970.24760\n",
              "488     48885.13561\n",
              "Name: charges, dtype: float64"
            ]
          },
          "metadata": {},
          "execution_count": 34
        }
      ]
    },
    {
      "cell_type": "code",
      "execution_count": null,
      "metadata": {
        "id": "vTCbnMp_r-je",
        "outputId": "12e5ae49-b20d-4a59-882e-384484f2923f",
        "colab": {
          "base_uri": "https://localhost:8080/",
          "height": 465
        }
      },
      "outputs": [
        {
          "output_type": "execute_result",
          "data": {
            "text/plain": [
              "<Axes: xlabel='children'>"
            ]
          },
          "metadata": {},
          "execution_count": 35
        },
        {
          "output_type": "display_data",
          "data": {
            "text/plain": [
              "<Figure size 640x480 with 1 Axes>"
            ],
            "image/png": "[encoded data removed]"
          },
          "metadata": {}
        }
      ],
      "source": [
        "data['children'].value_counts().plot(kind='bar')"
      ]
    },
    {
      "cell_type": "code",
      "execution_count": null,
      "metadata": {
        "id": "dE9meTvRr-jf",
        "outputId": "6fe15e9c-1545-4512-bb73-8ac38e84d730",
        "colab": {
          "base_uri": "https://localhost:8080/",
          "height": 423
        }
      },
      "outputs": [
        {
          "output_type": "execute_result",
          "data": {
            "text/plain": [
              "<Axes: ylabel='count'>"
            ]
          },
          "metadata": {},
          "execution_count": 36
        },
        {
          "output_type": "display_data",
          "data": {
            "text/plain": [
              "<Figure size 640x480 with 1 Axes>"
            ],
            "image/png": "[encoded data removed]"
          },
          "metadata": {}
        }
      ],
      "source": [
        "data['smoker'].value_counts().plot(kind='pie', autopct='%1.1f%%')"
      ]
    },
    {
      "cell_type": "code",
      "execution_count": null,
      "metadata": {
        "id": "T3eN5rGSr-jf",
        "outputId": "32548a19-ee87-42e1-9902-ff9f03962dca",
        "colab": {
          "base_uri": "https://localhost:8080/",
          "height": 423
        }
      },
      "outputs": [
        {
          "output_type": "execute_result",
          "data": {
            "text/plain": [
              "<Axes: ylabel='count'>"
            ]
          },
          "metadata": {},
          "execution_count": 37
        },
        {
          "output_type": "display_data",
          "data": {
            "text/plain": [
              "<Figure size 640x480 with 1 Axes>"
            ],
            "image/png": "[encoded data removed]"
          },
          "metadata": {}
        }
      ],
      "source": [
        "data['sex'].value_counts().plot(kind='pie', autopct='%1.1f%%')"
      ]
    },
    {
      "cell_type": "markdown",
      "metadata": {
        "id": "ud-1KALBr-jg"
      },
      "source": [
        "Bivariate Analysis"
      ]
    },
    {
      "cell_type": "code",
      "execution_count": null,
      "metadata": {
        "scrolled": true,
        "id": "ichvqhM9r-jg",
        "outputId": "73794738-0d44-4a5c-8e9d-2cb94e29bffe",
        "colab": {
          "base_uri": "https://localhost:8080/",
          "height": 447
        }
      },
      "outputs": [
        {
          "output_type": "execute_result",
          "data": {
            "text/plain": [
              "<matplotlib.collections.PathCollection at 0x7c9e7815d990>"
            ]
          },
          "metadata": {},
          "execution_count": 38
        },
        {
          "output_type": "display_data",
          "data": {
            "text/plain": [
              "<Figure size 640x480 with 1 Axes>"
            ],
            "image/png": "[encoded data removed]"
          },
          "metadata": {}
        }
      ],
      "source": [
        "plt.scatter(data['bmi'],data['charges'])"
      ]
    },
    {
      "cell_type": "code",
      "execution_count": null,
      "metadata": {
        "id": "3MWRszLar-jh",
        "outputId": "440766b5-6c7f-4acc-ce60-662b83076ca7",
        "colab": {
          "base_uri": "https://localhost:8080/",
          "height": 447
        }
      },
      "outputs": [
        {
          "output_type": "execute_result",
          "data": {
            "text/plain": [
              "<matplotlib.collections.PathCollection at 0x7c9e77ff09a0>"
            ]
          },
          "metadata": {},
          "execution_count": 39
        },
        {
          "output_type": "display_data",
          "data": {
            "text/plain": [
              "<Figure size 640x480 with 1 Axes>"
            ],
            "image/png": "[encoded data removed]"
          },
          "metadata": {}
        }
      ],
      "source": [
        "plt.scatter(data['age'],data['charges'])"
      ]
    },
    {
      "cell_type": "code",
      "execution_count": null,
      "metadata": {
        "id": "g7lwYkoMr-ji",
        "outputId": "a76075ad-4489-4850-8e79-ad7cb3826814",
        "colab": {
          "base_uri": "https://localhost:8080/",
          "height": 452
        }
      },
      "outputs": [
        {
          "output_type": "execute_result",
          "data": {
            "text/plain": [
              "<Axes: >"
            ]
          },
          "metadata": {},
          "execution_count": 40
        },
        {
          "output_type": "display_data",
          "data": {
            "text/plain": [
              "<Figure size 640x480 with 2 Axes>"
            ],
            "image/png": "[encoded data removed]"
          },
          "metadata": {}
        }
      ],
      "source": [
        "sns.heatmap(data.corr())"
      ]
    },
    {
      "cell_type": "markdown",
      "metadata": {
        "id": "1g2qnELZr-jj"
      },
      "source": [
        "Multivariate Analysis"
      ]
    },
    {
      "cell_type": "code",
      "execution_count": null,
      "metadata": {
        "id": "no8tUfPhr-jj",
        "outputId": "5dcd0168-5f19-4b33-8072-ac508320ddb2",
        "colab": {
          "base_uri": "https://localhost:8080/",
          "height": 542
        }
      },
      "outputs": [
        {
          "output_type": "display_data",
          "data": {
            "text/html": [
              "<html>\n",
              "<head><meta charset=\"utf-8\" /></head>\n",
              "<body>\n",
              "    <div>            <script src=\"https://cdnjs.cloudflare.com/ajax/libs/mathjax/2.7.5/MathJax.js?config=TeX-AMS-MML_SVG\"></script><script type=\"text/javascript\">if (window.MathJax && window.MathJax.Hub && window.MathJax.Hub.Config) {window.MathJax.Hub.Config({SVG: {font: \"STIX-Web\"}});}</script>                <script type=\"text/javascript\">window.PlotlyConfig = {MathJaxConfig: 'local'};</script>\n",
              "        <script charset=\"utf-8\" src=\"https://cdn.plot.ly/plotly-2.24.1.min.js\"></script>                <div id=\"f5acf68f-a010-4de0-b234-674c4b986780\" class=\"plotly-graph-div\" style=\"height:525px; width:100%;\"></div>            <script type=\"text/javascript\">                                    window.PLOTLYENV=window.PLOTLYENV || {};                                    if (document.getElementById(\"f5acf68f-a010-4de0-b234-674c4b986780\")) {                    Plotly.newPlot(                        \"f5acf68f-a010-4de0-b234-674c4b986780\",                        [{\"hovertemplate\":\"bmi=%{x}\\u003cbr\\u003echarges=%{y}\\u003cbr\\u003esmoker=%{marker.color}\\u003cextra\\u003e\\u003c\\u002fextra\\u003e\",\"legendgroup\":\"\",\"marker\":{\"color\":[1,0,0,0,0,0,0,0,0,0,0,1,0,0,1,0,0,0,0,1,0,0,0,1,0,0,0,0,0,1,1,0,0,0,1,0,0,0,1,1,0,0,0,0,0,0,0,0,0,1,0,0,1,1,0,1,0,1,1,0,0,0,0,0,1,0,0,0,0,1,1,0,0,0,0,0,0,0,0,0,0,0,1,0,1,1,1,0,0,0,0,0,1,0,1,0,0,0,1,1,0,0,0,1,0,1,0,0,0,1,0,0,0,0,0,0,0,1,0,0,0,0,0,1,0,0,1,0,1,0,0,0,0,0,0,0,0,0,0,0,0,0,1,0,1,0,1,0,0,0,0,0,0,1,0,0,1,1,1,0,1,1,0,0,0,0,0,0,0,0,0,0,0,0,0,1,0,0,0,0,0,0,0,0,0,1,0,0,0,0,0,0,0,0,0,0,0,0,0,0,0,0,0,1,0,0,0,1,0,0,0,0,0,0,0,0,0,0,0,0,0,0,0,1,1,0,0,0,0,0,0,0,0,0,0,1,0,0,1,0,1,0,0,0,1,0,0,0,0,0,1,1,1,0,1,0,1,0,0,1,0,1,1,1,0,1,1,0,0,0,0,1,0,0,0,0,0,0,0,0,1,1,0,0,0,0,0,0,1,0,0,0,1,0,0,0,1,1,1,0,0,1,0,0,0,0,0,0,0,0,0,0,1,0,1,0,0,0,0,0,0,0,1,0,0,0,0,1,1,0,1,1,0,0,0,0,0,0,1,0,0,0,0,0,0,0,0,0,0,0,0,0,0,0,0,0,0,0,0,0,0,0,1,0,0,0,0,0,0,0,0,0,0,1,0,1,1,1,0,0,1,1,0,0,0,0,0,0,0,0,0,0,0,0,0,0,0,0,0,0,0,0,0,0,0,0,0,0,0,0,0,1,1,0,0,0,0,1,0,1,1,1,1,0,0,0,0,0,0,0,0,0,0,0,0,0,0,0,0,0,0,1,0,0,1,0,0,0,0,0,0,0,0,0,0,0,0,0,0,0,0,1,0,0,0,1,0,0,0,0,0,0,0,0,1,1,1,0,0,0,0,0,0,0,0,0,0,0,1,0,0,0,0,0,1,0,0,0,0,0,1,0,1,1,0,0,0,0,0,0,0,0,0,0,1,0,0,0,0,0,0,0,0,0,1,0,0,0,0,0,1,0,0,0,0,0,0,0,0,0,0,0,0,1,0,1,0,0,0,1,0,0,0,0,0,0,0,0,1,0,0,0,0,0,0,0,0,0,0,1,0,0,0,0,0,0,0,1,0,0,0,0,0,0,0,0,0,1,0,0,0,0,0,1,0,0,0,0,0,0,0,0,0,0,1,0,0,1,0,1,0,0,0,0,0,1,0,1,1,0,0,1,0,1,0,0,0,0,0,1,0,0,0,0,0,0,0,0,1,0,0,1,0,0,0,0,0,0,0,0,0,0,0,0,0,1,0,0,0,0,0,0,0,0,1,1,0,1,1,0,0,0,0,0,1,0,0,1,0,0,0,0,1,0,0,0,0,0,0,1,0,0,0,0,0,0,0,1,0,0,0,0,0,0,0,0,1,0,0,0,0,0,0,0,0,0,0,0,0,0,0,0,0,0,0,1,0,1,0,0,1,0,0,0,0,0,1,0,1,1,0,1,1,0,0,0,0,0,0,0,1,0,0,0,0,0,0,1,0,1,0,0,1,0,0,0,0,0,0,0,0,0,0,1,0,0,0,0,0,0,1,0,0,1,0,0,0,0,0,0,0,0,0,1,0,1,0,0,0,1,0,0,0,1,0,0,0,0,0,0,0,0,0,0,0,0,0,0,1,1,0,0,0,0,0,0,1,1,1,0,0,0,0,0,0,0,0,0,0,0,0,0,1,1,0,1,0,0,0,0,1,0,1,0,1,0,1,1,0,0,1,0,0,0,0,0,0,0,0,0,0,0,0,0,0,0,0,0,0,0,0,0,0,1,0,1,1,0,0,0,1,0,0,1,0,0,1,0,0,0,0,1,0,0,0,0,0,0,0,1,0,1,0,0,0,0,1,1,0,0,0,0,0,0,0,0,0,0,0,0,0,0,0,0,0,0,0,0,0,0,0,0,0,0,0,0,0,1,0,1,0,1,0,1,1,0,1,0,1,0,0,0,0,0,0,0,1,0,0,0,0,0,0,0,0,1,0,0,0,0,0,0,1,0,0,0,0,0,0,1,0,0,0,0,1,0,0,0,0,0,1,1,0,0,0,0,0,1,0,0,0,1,0,0,0,0,0,0,0,0,0,1,1,0,0,0,1,0,0,0,1,1,0,1,0,0,1,1,0,0,1,0,1,0,0,1,0,1,0,1,0,0,0,1,0,0,0,0,0,0,0,0,1,0,0,0,0,0,0,0,1,0,0,0,0,0,0,0,1,0,0,0,0,0,0,1,0,0,0,0,1,0,0,1,0,0,1,0,0,0,1,0,0,0,0,0,0,0,0,0,0,1,1,0,0,0,0,1,1,0,1,0,1,0,1,0,0,0,0,0,0,0,0,0,0,0,0,0,0,1,0,0,0,0,0,0,1,0,0,0,0,0,1,0,0,0,1,0,0,0,0,0,0,0,0,0,0,0,0,0,1,1,0,0,0,0,1,0,0,1,0,0,0,0,1,0,1,0,1,0,0,0,0,0,0,0,1,0,0,0,0,0,0,0,1,0,0,1,1,0,0,0,0,0,0,0,0,0,1,0,0,0,0,1,0,0,0,0,0,0,1,1,0,0,0,0,0,0,0,0,1,1,0,0,0,0,0,0,0,1,1,0,1,0,0,0,0,0,0,0,0,0,0,0,0,1,0,1,0,0,0,0,0,0,1,0,0,0,1,0,0,1,1,0,1,0,0,0,1,0,0,1,0,0,0,0,0,0,0,0,1,1,0,1,1,0,1,1,1,0,0,0,0,1,1,0,0,0,0,0,0,1,0,1,0,0,0,0,0,0,0,0,0,0,0,0,0,1],\"coloraxis\":\"coloraxis\",\"symbol\":\"circle\"},\"mode\":\"markers\",\"name\":\"\",\"showlegend\":false,\"x\":[27.9,33.77,33.0,22.705,28.88,25.74,33.44,27.74,29.83,25.84,26.22,26.29,34.4,39.82,42.13,24.6,30.78,23.845,40.3,35.3,36.005,32.4,34.1,31.92,28.025,27.72,23.085,32.775,17.385,36.3,35.6,26.315,28.6,28.31,36.4,20.425,32.965,20.8,36.67,39.9,26.6,36.63,21.78,30.8,37.05,37.3,38.665,34.77,24.53,35.2,35.625,33.63,28.0,34.43,28.69,36.955,31.825,31.68,22.88,37.335,27.36,33.66,24.7,25.935,22.42,28.9,39.1,26.315,36.19,23.98,24.75,28.5,28.1,32.01,27.4,34.01,29.59,35.53,39.805,32.965,26.885,38.285,37.62,41.23,34.8,22.895,31.16,27.2,27.74,26.98,39.49,24.795,29.83,34.77,31.3,37.62,30.8,38.28,19.95,19.3,31.6,25.46,30.115,29.92,27.5,28.025,28.4,30.875,27.94,35.09,33.63,29.7,30.8,35.72,32.205,28.595,49.06,27.94,27.17,23.37,37.1,23.75,28.975,31.35,33.915,28.785,28.3,37.4,17.765,34.7,26.505,22.04,35.9,25.555,28.785,28.05,34.1,25.175,31.9,36.0,22.42,32.49,25.3,29.735,28.69,38.83,30.495,37.73,37.43,28.4,24.13,29.7,37.145,23.37,25.46,39.52,24.42,25.175,35.53,27.83,26.6,36.85,39.6,29.8,29.64,28.215,37.0,33.155,31.825,18.905,41.47,30.3,15.96,34.8,33.345,37.7,27.835,29.2,28.9,33.155,28.595,38.28,19.95,26.41,30.69,41.895,29.92,30.9,32.2,32.11,31.57,26.2,25.74,26.6,34.43,30.59,32.8,28.6,18.05,39.33,32.11,32.23,24.035,36.08,22.3,28.88,26.4,27.74,31.8,41.23,33.0,30.875,28.5,26.73,30.9,37.1,26.6,23.1,29.92,23.21,33.7,33.25,30.8,34.8,24.64,33.88,38.06,41.91,31.635,25.46,36.195,27.83,17.8,27.5,24.51,22.22,26.73,38.39,29.07,38.06,36.67,22.135,26.8,35.3,27.74,30.02,38.06,35.86,20.9,28.975,17.29,32.2,34.21,30.3,31.825,25.365,33.63,40.15,24.415,31.92,25.2,26.84,24.32,36.955,38.06,42.35,19.8,32.395,30.2,25.84,29.37,34.2,37.05,27.455,27.55,26.6,20.615,24.3,31.79,21.56,28.12,40.565,27.645,32.395,31.2,26.62,48.07,26.22,36.765,26.4,33.4,29.64,45.54,28.82,26.8,22.99,27.7,25.41,34.39,28.88,27.55,22.61,37.51,33.0,38.0,33.345,27.5,33.33,34.865,33.06,26.6,24.7,35.97,35.86,31.4,33.25,32.205,32.775,27.645,37.335,25.27,29.64,30.8,40.945,27.2,34.105,23.21,36.48,33.8,36.7,36.385,27.36,31.16,28.785,35.72,34.5,25.74,27.55,32.3,27.72,27.6,30.02,27.55,36.765,41.47,29.26,35.75,33.345,29.92,27.835,23.18,25.6,27.7,35.245,38.28,27.6,43.89,29.83,41.91,20.79,32.3,30.5,21.7,26.4,21.89,30.78,32.3,24.985,32.015,30.4,21.09,22.23,33.155,32.9,33.33,28.31,24.89,40.15,30.115,31.46,17.955,30.685,33.0,43.34,22.135,34.4,39.05,25.365,22.61,30.21,35.625,37.43,31.445,31.35,32.3,19.855,34.4,31.02,25.6,38.17,20.6,47.52,32.965,32.3,20.4,38.38,24.31,23.6,21.12,30.03,17.48,20.235,17.195,23.9,35.15,35.64,34.1,22.6,39.16,26.98,33.88,35.86,32.775,30.59,30.2,24.31,27.265,29.165,16.815,30.4,33.1,20.235,26.9,30.5,28.595,33.11,31.73,28.9,46.75,29.45,32.68,33.5,43.01,36.52,26.695,33.1,29.64,25.65,29.6,38.6,29.6,24.13,23.4,29.735,46.53,37.4,30.14,30.495,39.6,33.0,36.63,30.0,38.095,25.935,25.175,28.38,28.7,33.82,24.32,24.09,32.67,30.115,29.8,33.345,25.1,28.31,28.5,35.625,36.85,32.56,41.325,37.51,31.35,39.5,34.3,31.065,21.47,28.7,38.06,31.16,32.9,25.08,25.08,43.4,25.7,27.93,23.6,28.7,23.98,39.2,34.4,26.03,23.21,30.25,28.93,30.875,31.35,23.75,25.27,28.7,32.11,33.66,22.42,30.4,28.3,35.7,35.31,30.495,31.0,30.875,27.36,44.22,33.915,37.73,26.07,33.88,30.59,25.8,39.425,25.46,42.13,31.73,29.7,36.19,40.48,28.025,38.9,30.2,28.05,31.35,38.0,31.79,36.3,47.41,30.21,25.84,35.435,46.7,28.595,46.2,30.8,28.93,21.4,31.73,41.325,23.8,33.44,34.21,34.105,35.53,19.95,32.68,30.5,44.77,32.12,30.495,40.565,30.59,31.9,40.565,29.1,37.29,43.12,36.86,34.295,27.17,26.84,38.095,30.2,23.465,25.46,30.59,45.43,23.65,20.7,28.27,20.235,30.21,35.91,30.69,29.0,19.57,31.13,21.85,40.26,33.725,29.48,33.25,32.6,37.525,39.16,31.635,25.3,39.05,28.31,34.1,25.175,23.655,26.98,37.8,29.37,34.8,33.155,19.0,33.0,36.63,28.595,25.6,33.11,37.1,31.4,34.1,21.3,33.535,28.785,26.03,28.88,42.46,38.0,38.95,36.1,29.3,35.53,22.705,39.7,38.19,24.51,38.095,26.41,33.66,42.4,28.31,33.915,34.96,35.31,30.78,26.22,23.37,28.5,32.965,42.68,39.6,31.13,36.3,35.2,25.3,42.4,33.155,35.91,28.785,46.53,23.98,31.54,33.66,22.99,38.06,28.7,32.775,32.015,29.81,31.57,31.16,29.7,31.02,43.89,21.375,40.81,31.35,36.1,23.18,17.4,20.3,35.3,24.32,18.5,26.41,26.125,41.69,24.1,31.13,27.36,36.2,32.395,23.655,34.8,40.185,32.3,35.75,33.725,39.27,34.87,44.745,41.47,26.41,29.545,32.9,38.06,28.69,30.495,27.74,35.2,23.54,30.685,40.47,22.6,28.9,22.61,24.32,36.67,33.44,40.66,36.6,37.4,35.4,27.075,39.05,28.405,21.755,40.28,36.08,24.42,21.4,30.1,27.265,32.1,34.77,38.39,23.7,31.73,35.5,24.035,29.15,34.105,26.62,26.41,30.115,27.0,21.755,36.0,30.875,26.4,28.975,37.905,22.77,33.63,27.645,22.8,27.83,37.43,38.17,34.58,35.2,27.1,26.03,25.175,31.825,32.3,29.0,39.7,19.475,36.1,26.7,36.48,28.88,34.2,33.33,32.3,39.805,34.32,28.88,24.4,41.14,35.97,27.6,29.26,27.7,36.955,36.86,22.515,29.92,41.8,27.6,23.18,20.9,31.92,28.5,44.22,22.895,33.1,24.795,26.18,35.97,22.3,42.24,26.51,35.815,41.42,36.575,30.14,25.84,30.8,42.94,21.01,22.515,34.43,31.46,24.225,37.1,26.125,35.53,33.7,17.67,31.13,29.81,24.32,31.825,31.79,28.025,30.78,21.85,33.1,25.84,23.845,34.39,33.82,35.97,31.5,28.31,23.465,31.35,31.1,24.7,32.78,29.81,30.495,32.45,34.2,50.38,24.1,32.775,30.78,32.3,35.53,23.75,23.845,29.6,33.11,24.13,32.23,28.1,47.6,28.0,33.535,19.855,25.4,29.9,37.29,43.7,23.655,24.3,36.2,29.48,24.86,30.1,21.85,28.12,27.1,33.44,28.8,29.5,34.8,27.36,22.135,37.05,26.695,28.93,28.975,30.02,39.5,33.63,26.885,29.04,24.035,38.94,32.11,44.0,20.045,25.555,40.26,22.515,22.515,40.92,27.265,36.85,35.1,29.355,32.585,32.34,39.8,24.6,28.31,31.73,26.695,27.5,24.605,33.99,26.885,22.895,28.2,34.21,25.0,33.2,31.0,35.815,23.2,32.11,23.4,20.1,39.16,34.21,46.53,32.5,25.8,35.3,37.18,27.5,29.735,24.225,26.18,29.48,23.21,46.09,40.185,22.61,39.93,35.8,35.8,34.2,31.255,29.7,18.335,42.9,28.405,30.2,27.835,39.49,30.8,26.79,34.96,36.67,39.615,25.9,35.2,24.795,36.765,27.1,24.795,25.365,25.745,34.32,28.16,23.56,20.235,40.5,35.42,22.895,40.15,29.15,39.995,29.92,25.46,21.375,25.9,30.59,30.115,25.8,30.115,27.645,34.675,20.52,19.8,27.835,31.6,28.27,20.045,23.275,34.1,36.85,36.29,26.885,22.99,32.7,25.8,29.6,19.19,31.73,29.26,28.215,24.985,27.74,22.8,20.13,33.33,32.3,27.6,25.46,24.605,34.2,35.815,32.68,37.0,31.02,36.08,23.32,45.32,34.6,26.03,18.715,31.6,17.29,23.655,35.2,27.93,21.565,38.38,23.0,37.07,30.495,28.88,27.265,28.025,23.085,30.685,25.8,35.245,24.7,25.08,52.58,22.515,30.9,36.955,26.41,29.83,29.8,21.47,27.645,28.9,31.79,39.49,33.82,32.01,27.94,41.14,28.595,25.6,25.3,37.29,42.655,21.66,31.9,37.07,31.445,31.255,28.88,18.335,29.59,32.0,26.03,31.68,33.66,21.78,27.835,19.95,31.5,30.495,18.3,28.975,31.54,47.74,22.1,36.19,29.83,32.7,30.4,33.7,31.35,34.96,33.77,30.875,33.99,19.095,28.6,38.94,36.08,29.8,31.24,29.925,26.22,30.0,20.35,32.3,38.39,25.85,26.315,24.51,32.67,29.64,33.33,35.75,19.95,31.4,38.17,36.86,32.395,42.75,25.08,29.9,35.86,32.8,18.6,23.87,45.9,40.28,18.335,33.82,28.12,25.0,22.23,30.25,32.49,37.07,32.6,24.86,32.34,32.3,32.775,32.8,31.92,21.5,34.1,30.305,36.48,32.56,35.815,27.93,22.135,44.88,23.18,30.59,41.1,34.58,42.13,38.83,28.215,28.31,26.125,40.37,24.6,35.2,34.105,27.36,26.7,41.91,29.26,32.11,27.1,24.13,27.4,34.865,29.81,41.325,29.925,30.3,27.36,28.49,23.56,35.625,32.68,25.27,28.0,32.775,21.755,32.395,36.575,21.755,27.93,30.02,33.55,29.355,25.8,24.32,40.375,32.11,32.3,27.28,17.86,34.8,33.4,25.555,37.1,30.875,34.1,21.47,33.3,31.255,39.14,25.08,37.29,34.6,30.21,21.945,24.97,25.3,24.42,23.94,39.82,16.815,37.18,34.43,30.305,34.485,21.8,24.605,23.3,27.83,31.065,21.66,28.215,22.705,42.13,41.8,36.96,21.28,33.11,33.33,24.3,25.7,29.4,39.82,33.63,29.83,19.8,27.3,29.3,27.72,37.9,36.385,27.645,37.715,23.18,20.52,37.1,28.05,29.9,33.345,23.76,30.5,31.065,33.3,27.5,33.915,34.485,25.52,27.61,27.06,23.7,30.4,29.735,29.925,26.79,33.33,27.645,21.66,30.03,36.3,24.32,17.29,25.9,39.4,34.32,19.95,34.9,23.21,25.745,25.175,22.0,26.125,26.51,27.455,25.745,30.36,30.875,20.8,27.8,24.605,27.72,21.85,28.12,30.2,32.2,26.315,26.695,42.9,34.7,23.655,28.31,20.6,53.13,39.71,26.315,31.065,26.695,38.83,40.37,25.935,33.535,32.87,30.03,24.225,38.6,25.74,33.4,44.7,30.97,31.92,36.85,25.8,29.07],\"xaxis\":\"x\",\"y\":[16884.924,1725.5523,4449.462,21984.47061,3866.8552,3756.6216,8240.5896,7281.5056,6406.4107,28923.13692,2721.3208,27808.7251,1826.843,11090.7178,39611.7577,1837.237,10797.3362,2395.17155,10602.385,36837.467,13228.84695,4149.736,1137.011,37701.8768,6203.90175,14001.1338,14451.83515,12268.63225,2775.19215,38711.0,35585.576,2198.18985,4687.797,13770.0979,51194.55914,1625.43375,15612.19335,2302.3,39774.2763,48173.361,3046.062,4949.7587,6272.4772,6313.759,6079.6715,20630.28351,3393.35635,3556.9223,12629.8967,38709.176,2211.13075,3579.8287,23568.272,37742.5757,8059.6791,47496.49445,13607.36875,34303.1672,23244.7902,5989.52365,8606.2174,4504.6624,30166.61817,4133.64165,14711.7438,1743.214,14235.072,6389.37785,5920.1041,17663.1442,16577.7795,6799.458,11741.726,11946.6259,7726.854,11356.6609,3947.4131,1532.4697,2755.02095,6571.02435,4441.21315,7935.29115,37165.1638,11033.6617,39836.519,21098.55405,43578.9394,11073.176,8026.6666,11082.5772,2026.9741,10942.13205,30184.9367,5729.0053,47291.055,3766.8838,12105.32,10226.2842,22412.6485,15820.699,6186.127,3645.0894,21344.8467,30942.1918,5003.853,17560.37975,2331.519,3877.30425,2867.1196,47055.5321,10825.2537,11881.358,4646.759,2404.7338,11488.31695,30259.99556,11381.3254,19107.7796,8601.3293,6686.4313,7740.337,1705.6245,2257.47525,39556.4945,10115.00885,3385.39915,17081.08,9634.538,32734.1863,6082.405,12815.44495,13616.3586,11163.568,1632.56445,2457.21115,2155.6815,1261.442,2045.68525,27322.73386,2166.732,27375.90478,3490.5491,18972.495,18157.876,20745.9891,5138.2567,40720.55105,9877.6077,10959.6947,1842.519,5125.2157,7789.635,6334.34355,19964.7463,7077.1894,6948.7008,21223.6758,15518.18025,36950.2567,19749.38338,21348.706,36149.4835,10450.552,5152.134,5028.1466,10407.08585,4830.63,6128.79745,2719.27975,4827.90495,13405.3903,8116.68,1694.7964,5246.047,2855.43755,48824.45,6455.86265,10436.096,8823.279,8538.28845,11735.87905,1631.8212,4005.4225,7419.4779,7731.4271,43753.33705,3981.9768,5325.651,6775.961,4922.9159,12557.6053,4883.866,2137.6536,12044.342,1137.4697,1639.5631,5649.715,8516.829,9644.2525,14901.5167,2130.6759,8871.1517,13012.20865,37133.8982,7147.105,4337.7352,11743.299,20984.0936,13880.949,6610.1097,1980.07,8162.71625,3537.703,5002.7827,8520.026,7371.772,10355.641,2483.736,3392.9768,25081.76784,5012.471,10564.8845,5253.524,34779.615,19515.5416,11987.1682,2689.4954,24227.33724,7358.17565,9225.2564,7443.64305,14001.2867,1727.785,12333.828,6710.1919,19444.2658,1615.7667,4463.2051,17352.6803,7152.6714,38511.6283,5354.07465,35160.13457,7196.867,29523.1656,24476.47851,12648.7034,1986.9334,1832.094,4040.55825,12829.4551,47305.305,44260.7499,4260.744,41097.16175,13047.33235,43921.1837,5400.9805,11520.09985,33750.2918,11837.16,17085.2676,24869.8368,36219.40545,20462.99766,46151.1245,17179.522,14590.63205,7441.053,9282.4806,1719.4363,42856.838,7265.7025,9617.66245,2523.1695,9715.841,2803.69785,2150.469,12928.7911,9855.1314,22331.5668,48549.17835,4237.12655,11879.10405,9625.92,7742.1098,9432.9253,14256.1928,47896.79135,25992.82104,3172.018,20277.80751,42112.2356,2156.7518,3906.127,1704.5681,16297.846,21978.6769,38746.3551,9249.4952,6746.7425,24873.3849,12265.5069,4349.462,12646.207,19442.3535,20177.67113,4151.0287,11944.59435,7749.1564,8444.474,1737.376,42124.5153,8124.4084,34838.873,9722.7695,8835.26495,10435.06525,7421.19455,4667.60765,4894.7533,24671.66334,35491.64,11566.30055,2866.091,6600.20595,3561.8889,42760.5022,47928.03,9144.565,48517.56315,24393.6224,13429.0354,11658.37915,19144.57652,13822.803,12142.5786,13937.6665,41919.097,8232.6388,18955.22017,13352.0998,13217.0945,13981.85035,10977.2063,6184.2994,4889.9995,8334.45755,5478.0368,1635.73365,11830.6072,8932.084,3554.203,12404.8791,14133.03775,24603.04837,8944.1151,9620.3307,1837.2819,1607.5101,10043.249,4751.07,13844.506,2597.779,3180.5101,9778.3472,13430.265,8017.06115,8116.26885,3481.868,13415.0381,12029.2867,7639.41745,36085.219,1391.5287,18033.9679,21659.9301,38126.2465,16455.70785,27000.98473,15006.57945,42303.69215,20781.48892,5846.9176,8302.53565,1261.859,11856.4115,30284.64294,3176.8159,4618.0799,10736.87075,2138.0707,8964.06055,9290.1395,9411.005,7526.70645,8522.003,16586.49771,14988.432,1631.6683,9264.797,8083.9198,14692.66935,10269.46,3260.199,11396.9002,4185.0979,8539.671,6652.5288,4074.4537,1621.3402,19594.80965,14455.64405,5080.096,2134.9015,7345.7266,9140.951,18608.262,14418.2804,28950.4692,46889.2612,46599.1084,39125.33225,2727.3951,8968.33,9788.8659,6555.07035,7323.734819,3167.45585,18804.7524,23082.95533,4906.40965,5969.723,12638.195,4243.59005,13919.8229,2254.7967,5926.846,12592.5345,2897.3235,4738.2682,37079.372,1149.3959,28287.89766,26109.32905,7345.084,12730.9996,11454.0215,5910.944,4762.329,7512.267,4032.2407,1969.614,1769.53165,4686.3887,21797.0004,11881.9696,11840.77505,10601.412,7682.67,10381.4787,22144.032,15230.32405,11165.41765,1632.03625,19521.9682,13224.693,12643.3778,23288.9284,2201.0971,2497.0383,2203.47185,1744.465,20878.78443,25382.297,28868.6639,35147.52848,2534.39375,1534.3045,1824.2854,15555.18875,9304.7019,1622.1885,9880.068,9563.029,4347.02335,12475.3513,1253.936,48885.13561,10461.9794,1748.774,24513.09126,2196.4732,12574.049,17942.106,1967.0227,4931.647,8027.968,8211.1002,13470.86,36197.699,6837.3687,22218.1149,32548.3405,5974.3847,6796.86325,2643.2685,3077.0955,3044.2133,11455.28,11763.0009,2498.4144,9361.3268,1256.299,21082.16,11362.755,27724.28875,8413.46305,5240.765,3857.75925,25656.57526,3994.1778,9866.30485,5397.6167,38245.59327,11482.63485,24059.68019,9861.025,8342.90875,1708.0014,48675.5177,14043.4767,12925.886,19214.70553,13831.1152,6067.12675,5972.378,8825.086,8233.0975,27346.04207,6196.448,3056.3881,13887.204,63770.42801,10231.4999,23807.2406,3268.84665,11538.421,3213.62205,45863.205,13390.559,3972.9247,12957.118,11187.6567,17878.90068,3847.674,8334.5896,3935.1799,39983.42595,1646.4297,9193.8385,10923.9332,2494.022,9058.7303,2801.2588,2128.43105,6373.55735,7256.7231,11552.904,45702.02235,3761.292,2219.4451,4753.6368,31620.00106,13224.05705,12222.8983,1664.9996,58571.07448,9724.53,3206.49135,12913.9924,1639.5631,6356.2707,17626.23951,1242.816,4779.6023,3861.20965,43943.8761,13635.6379,5976.8311,11842.442,8428.0693,2566.4707,15359.1045,5709.1644,8823.98575,7640.3092,5594.8455,7441.501,33471.97189,1633.0444,9174.13565,11070.535,16085.1275,17468.9839,9283.562,3558.62025,25678.77845,4435.0942,39241.442,8547.6913,6571.544,2207.69745,6753.038,1880.07,42969.8527,11658.11505,23306.547,34439.8559,10713.644,3659.346,40182.246,9182.17,34617.84065,12129.61415,3736.4647,6748.5912,11326.71487,11365.952,42983.4585,10085.846,1977.815,3366.6697,7173.35995,9391.346,14410.9321,2709.1119,24915.04626,20149.3229,12949.1554,6666.243,32787.45859,13143.86485,4466.6214,18806.14547,10141.1362,6123.5688,8252.2843,1712.227,12430.95335,9800.8882,10579.711,8280.6227,8527.532,12244.531,24667.419,3410.324,4058.71245,26392.26029,14394.39815,6435.6237,22192.43711,5148.5526,1136.3994,27037.9141,42560.4304,8703.456,40003.33225,45710.20785,6500.2359,4837.5823,3943.5954,4399.731,6185.3208,46200.9851,7222.78625,12485.8009,46130.5265,12363.547,10156.7832,2585.269,1242.26,40103.89,9863.4718,4766.022,11244.3769,7729.64575,5438.7491,26236.57997,34806.4677,2104.1134,8068.185,2362.22905,2352.96845,3577.999,3201.24515,29186.48236,40273.6455,10976.24575,3500.6123,2020.5523,9541.69555,9504.3103,5385.3379,8930.93455,5375.038,44400.4064,10264.4421,6113.23105,5469.0066,1727.54,10107.2206,8310.83915,1984.4533,2457.502,12146.971,9566.9909,13112.6048,10848.1343,12231.6136,9875.6804,11264.541,12979.358,1263.249,10106.13425,40932.4295,6664.68595,16657.71745,2217.6012,6781.3542,19361.9988,10065.413,4234.927,9447.25035,14007.222,9583.8933,40419.0191,3484.331,36189.1017,44585.45587,8604.48365,18246.4955,43254.41795,3757.8448,8827.2099,9910.35985,11737.84884,1627.28245,8556.907,3062.50825,19539.243,1906.35825,14210.53595,11833.7823,17128.42608,5031.26955,7985.815,23065.4207,5428.7277,36307.7983,3925.7582,2416.955,19040.876,3070.8087,9095.06825,11842.62375,8062.764,7050.642,14319.031,6933.24225,27941.28758,11150.78,12797.20962,17748.5062,7261.741,10560.4917,6986.697,7448.40395,5934.3798,9869.8102,18259.216,1146.7966,9386.1613,24520.264,4350.5144,6414.178,12741.16745,1917.3184,5209.57885,13457.9608,5662.225,1252.407,2731.9122,21195.818,7209.4918,18310.742,4266.1658,4719.52405,11848.141,17904.52705,7046.7222,14313.8463,2103.08,38792.6856,1815.8759,7731.85785,28476.73499,2136.88225,1131.5066,3309.7926,9414.92,6360.9936,11013.7119,4428.88785,5584.3057,1877.9294,2842.76075,3597.596,23401.30575,55135.40209,7445.918,2680.9493,1621.8827,8219.2039,12523.6048,16069.08475,43813.8661,20773.62775,39597.4072,6117.4945,13393.756,5266.3656,4719.73655,11743.9341,5377.4578,7160.3303,4402.233,11657.7189,6402.29135,12622.1795,1526.312,12323.936,36021.0112,27533.9129,10072.05505,45008.9555,9872.701,2438.0552,2974.126,10601.63225,37270.1512,14119.62,42111.6647,11729.6795,24106.91255,1875.344,40974.1649,15817.9857,18218.16139,10965.446,46113.511,7151.092,12269.68865,5458.04645,8782.469,6600.361,1141.4451,11576.13,13129.60345,4391.652,8457.818,3392.3652,5966.8874,6849.026,8891.1395,2690.1138,26140.3603,6653.7886,6282.235,6311.952,3443.064,2789.0574,2585.85065,46255.1125,4877.98105,19719.6947,27218.43725,5272.1758,1682.597,11945.1327,29330.98315,7243.8136,10422.91665,44202.6536,13555.0049,13063.883,19798.05455,2221.56445,1634.5734,2117.33885,8688.85885,48673.5588,4661.28635,8125.7845,12644.589,4564.19145,4846.92015,7633.7206,15170.069,17496.306,2639.0429,33732.6867,14382.70905,7626.993,5257.50795,2473.3341,21774.32215,35069.37452,13041.921,5245.2269,13451.122,13462.52,5488.262,4320.41085,6250.435,25333.33284,2913.569,12032.326,13470.8044,6289.7549,2927.0647,6238.298,10096.97,7348.142,4673.3922,12233.828,32108.66282,8965.79575,2304.0022,9487.6442,1121.8739,9549.5651,2217.46915,1628.4709,12982.8747,11674.13,7160.094,39047.285,6358.77645,19933.458,11534.87265,47462.894,4527.18295,38998.546,20009.63365,3875.7341,41999.52,12609.88702,41034.2214,28468.91901,2730.10785,3353.284,14474.675,9500.57305,26467.09737,4746.344,23967.38305,7518.02535,3279.86855,8596.8278,10702.6424,4992.3764,2527.81865,1759.338,2322.6218,16138.76205,7804.1605,2902.9065,9704.66805,4889.0368,25517.11363,4500.33925,19199.944,16796.41194,4915.05985,7624.63,8410.04685,28340.18885,4518.82625,14571.8908,3378.91,7144.86265,10118.424,5484.4673,16420.49455,7986.47525,7418.522,13887.9685,6551.7501,5267.81815,17361.7661,34472.841,1972.95,21232.18226,8627.5411,4433.3877,4438.2634,24915.22085,23241.47453,9957.7216,8269.044,18767.7377,36580.28216,8765.249,5383.536,12124.9924,2709.24395,3987.926,12495.29085,26018.95052,8798.593,35595.5898,42211.1382,1711.0268,8569.8618,2020.177,16450.8947,21595.38229,9850.432,6877.9801,21677.28345,44423.803,4137.5227,13747.87235,12950.0712,12094.478,37484.4493,39725.51805,2250.8352,22493.65964,20234.85475,1704.70015,33475.81715,3161.454,11394.06555,21880.82,7325.0482,44501.3982,3594.17085,39727.614,8023.13545,14394.5579,9288.0267,25309.489,3353.4703,10594.50155,8277.523,17929.30337,2480.9791,4462.7218,1981.5819,11554.2236,48970.2476,6548.19505,5708.867,7045.499,8978.1851,5757.41345,14349.8544,10928.849,39871.7043,13974.45555,1909.52745,12096.6512,13204.28565,4562.8421,8551.347,2102.2647,34672.1472,15161.5344,11884.04858,4454.40265,5855.9025,4076.497,15019.76005,19023.26,10796.35025,11353.2276,9748.9106,10577.087,41676.0811,11286.5387,3591.48,33907.548,11299.343,4561.1885,44641.1974,1674.6323,23045.56616,3227.1211,16776.30405,11253.421,3471.4096,11363.2832,20420.60465,10338.9316,8988.15875,10493.9458,2904.088,8605.3615,11512.405,41949.2441,24180.9335,5312.16985,2396.0959,10807.4863,9222.4026,36124.5737,38282.7495,5693.4305,34166.273,8347.1643,46661.4424,18903.49141,40904.1995,14254.6082,10214.636,5836.5204,14358.36437,1728.897,8582.3023,3693.428,20709.02034,9991.03765,19673.33573,11085.5868,7623.518,3176.2877,3704.3545,36898.73308,9048.0273,7954.517,27117.99378,6338.0756,9630.397,11289.10925,52590.82939,2261.5688,10791.96,5979.731,2203.73595,12235.8392,40941.2854,5630.45785,11015.1747,7228.21565,39722.7462,14426.07385,2459.7201,3989.841,7727.2532,5124.1887,18963.17192,2200.83085,7153.5539,5227.98875,10982.5013,4529.477,4670.64,6112.35295,17178.6824,22478.6,11093.6229,6457.8434,4433.9159,2154.361,23887.6627,6496.886,2899.48935,19350.3689,7650.77375,2850.68375,2632.992,9447.3824,18328.2381,8603.8234,37465.34375,13844.7972,21771.3423,13126.67745,5327.40025,13725.47184,13019.16105,8671.19125,4134.08245,18838.70366,33307.5508,5699.8375,6393.60345,4934.705,6198.7518,8733.22925,2055.3249,9964.06,18223.4512,5116.5004,36910.60803,38415.474,20296.86345,12347.172,5373.36425,23563.01618,1702.4553,10806.839,3956.07145,12890.05765,5415.6612,4058.1161,41661.602,7537.1639,4718.20355,6593.5083,8442.667,26125.67477,6858.4796,4795.6568,6640.54485,7162.0122,10594.2257,11938.25595,60021.39897,20167.33603,12479.70895,11345.519,8515.7587,2699.56835,14449.8544,12224.35085,6985.50695,3238.4357,47269.854,49577.6624,4296.2712,3171.6149,1135.9407,5615.369,9101.798,6059.173,1633.9618,37607.5277,18648.4217,1241.565,16232.847,15828.82173,4415.1588,6474.013,11436.73815,11305.93455,30063.58055,10197.7722,4544.2348,3277.161,6770.1925,7337.748,10370.91255,26926.5144,10704.47,34254.05335,1880.487,8615.3,3292.52985,3021.80915,14478.33015,4747.0529,17043.3414,10959.33,2741.948,4357.04365,22462.04375,4189.1131,8283.6807,24535.69855,14283.4594,1720.3537,47403.88,8534.6718,3732.6251,5472.449,38344.566,7147.4728,7133.9025,34828.654,1515.3449,9301.89355,11931.12525,1964.78,1708.92575,4340.4409,5261.46945,2710.82855,62592.87309,46718.16325,3208.787,37829.7242,21259.37795,2464.6188,16115.3045,21472.4788,33900.653,6875.961,6940.90985,4571.41305,4536.259,36397.576,18765.87545,11272.33139,1731.677,1163.4627,19496.71917,7201.70085,5425.02335,28101.33305,12981.3457,43896.3763,4239.89265,13143.33665,7050.0213,9377.9047,22395.74424,10325.206,12629.1656,10795.93733,11411.685,10600.5483,2205.9808,1629.8335,2007.945,29141.3603],\"yaxis\":\"y\",\"type\":\"scattergl\"}],                        {\"template\":{\"data\":{\"histogram2dcontour\":[{\"type\":\"histogram2dcontour\",\"colorbar\":{\"outlinewidth\":0,\"ticks\":\"\"},\"colorscale\":[[0.0,\"#0d0887\"],[0.1111111111111111,\"#46039f\"],[0.2222222222222222,\"#7201a8\"],[0.3333333333333333,\"#9c179e\"],[0.4444444444444444,\"#bd3786\"],[0.5555555555555556,\"#d8576b\"],[0.6666666666666666,\"#ed7953\"],[0.7777777777777778,\"#fb9f3a\"],[0.8888888888888888,\"#fdca26\"],[1.0,\"#f0f921\"]]}],\"choropleth\":[{\"type\":\"choropleth\",\"colorbar\":{\"outlinewidth\":0,\"ticks\":\"\"}}],\"histogram2d\":[{\"type\":\"histogram2d\",\"colorbar\":{\"outlinewidth\":0,\"ticks\":\"\"},\"colorscale\":[[0.0,\"#0d0887\"],[0.1111111111111111,\"#46039f\"],[0.2222222222222222,\"#7201a8\"],[0.3333333333333333,\"#9c179e\"],[0.4444444444444444,\"#bd3786\"],[0.5555555555555556,\"#d8576b\"],[0.6666666666666666,\"#ed7953\"],[0.7777777777777778,\"#fb9f3a\"],[0.8888888888888888,\"#fdca26\"],[1.0,\"#f0f921\"]]}],\"heatmap\":[{\"type\":\"heatmap\",\"colorbar\":{\"outlinewidth\":0,\"ticks\":\"\"},\"colorscale\":[[0.0,\"#0d0887\"],[0.1111111111111111,\"#46039f\"],[0.2222222222222222,\"#7201a8\"],[0.3333333333333333,\"#9c179e\"],[0.4444444444444444,\"#bd3786\"],[0.5555555555555556,\"#d8576b\"],[0.6666666666666666,\"#ed7953\"],[0.7777777777777778,\"#fb9f3a\"],[0.8888888888888888,\"#fdca26\"],[1.0,\"#f0f921\"]]}],\"heatmapgl\":[{\"type\":\"heatmapgl\",\"colorbar\":{\"outlinewidth\":0,\"ticks\":\"\"},\"colorscale\":[[0.0,\"#0d0887\"],[0.1111111111111111,\"#46039f\"],[0.2222222222222222,\"#7201a8\"],[0.3333333333333333,\"#9c179e\"],[0.4444444444444444,\"#bd3786\"],[0.5555555555555556,\"#d8576b\"],[0.6666666666666666,\"#ed7953\"],[0.7777777777777778,\"#fb9f3a\"],[0.8888888888888888,\"#fdca26\"],[1.0,\"#f0f921\"]]}],\"contourcarpet\":[{\"type\":\"contourcarpet\",\"colorbar\":{\"outlinewidth\":0,\"ticks\":\"\"}}],\"contour\":[{\"type\":\"contour\",\"colorbar\":{\"outlinewidth\":0,\"ticks\":\"\"},\"colorscale\":[[0.0,\"#0d0887\"],[0.1111111111111111,\"#46039f\"],[0.2222222222222222,\"#7201a8\"],[0.3333333333333333,\"#9c179e\"],[0.4444444444444444,\"#bd3786\"],[0.5555555555555556,\"#d8576b\"],[0.6666666666666666,\"#ed7953\"],[0.7777777777777778,\"#fb9f3a\"],[0.8888888888888888,\"#fdca26\"],[1.0,\"#f0f921\"]]}],\"surface\":[{\"type\":\"surface\",\"colorbar\":{\"outlinewidth\":0,\"ticks\":\"\"},\"colorscale\":[[0.0,\"#0d0887\"],[0.1111111111111111,\"#46039f\"],[0.2222222222222222,\"#7201a8\"],[0.3333333333333333,\"#9c179e\"],[0.4444444444444444,\"#bd3786\"],[0.5555555555555556,\"#d8576b\"],[0.6666666666666666,\"#ed7953\"],[0.7777777777777778,\"#fb9f3a\"],[0.8888888888888888,\"#fdca26\"],[1.0,\"#f0f921\"]]}],\"mesh3d\":[{\"type\":\"mesh3d\",\"colorbar\":{\"outlinewidth\":0,\"ticks\":\"\"}}],\"scatter\":[{\"fillpattern\":{\"fillmode\":\"overlay\",\"size\":10,\"solidity\":0.2},\"type\":\"scatter\"}],\"parcoords\":[{\"type\":\"parcoords\",\"line\":{\"colorbar\":{\"outlinewidth\":0,\"ticks\":\"\"}}}],\"scatterpolargl\":[{\"type\":\"scatterpolargl\",\"marker\":{\"colorbar\":{\"outlinewidth\":0,\"ticks\":\"\"}}}],\"bar\":[{\"error_x\":{\"color\":\"#2a3f5f\"},\"error_y\":{\"color\":\"#2a3f5f\"},\"marker\":{\"line\":{\"color\":\"#E5ECF6\",\"width\":0.5},\"pattern\":{\"fillmode\":\"overlay\",\"size\":10,\"solidity\":0.2}},\"type\":\"bar\"}],\"scattergeo\":[{\"type\":\"scattergeo\",\"marker\":{\"colorbar\":{\"outlinewidth\":0,\"ticks\":\"\"}}}],\"scatterpolar\":[{\"type\":\"scatterpolar\",\"marker\":{\"colorbar\":{\"outlinewidth\":0,\"ticks\":\"\"}}}],\"histogram\":[{\"marker\":{\"pattern\":{\"fillmode\":\"overlay\",\"size\":10,\"solidity\":0.2}},\"type\":\"histogram\"}],\"scattergl\":[{\"type\":\"scattergl\",\"marker\":{\"colorbar\":{\"outlinewidth\":0,\"ticks\":\"\"}}}],\"scatter3d\":[{\"type\":\"scatter3d\",\"line\":{\"colorbar\":{\"outlinewidth\":0,\"ticks\":\"\"}},\"marker\":{\"colorbar\":{\"outlinewidth\":0,\"ticks\":\"\"}}}],\"scattermapbox\":[{\"type\":\"scattermapbox\",\"marker\":{\"colorbar\":{\"outlinewidth\":0,\"ticks\":\"\"}}}],\"scatterternary\":[{\"type\":\"scatterternary\",\"marker\":{\"colorbar\":{\"outlinewidth\":0,\"ticks\":\"\"}}}],\"scattercarpet\":[{\"type\":\"scattercarpet\",\"marker\":{\"colorbar\":{\"outlinewidth\":0,\"ticks\":\"\"}}}],\"carpet\":[{\"aaxis\":{\"endlinecolor\":\"#2a3f5f\",\"gridcolor\":\"white\",\"linecolor\":\"white\",\"minorgridcolor\":\"white\",\"startlinecolor\":\"#2a3f5f\"},\"baxis\":{\"endlinecolor\":\"#2a3f5f\",\"gridcolor\":\"white\",\"linecolor\":\"white\",\"minorgridcolor\":\"white\",\"startlinecolor\":\"#2a3f5f\"},\"type\":\"carpet\"}],\"table\":[{\"cells\":{\"fill\":{\"color\":\"#EBF0F8\"},\"line\":{\"color\":\"white\"}},\"header\":{\"fill\":{\"color\":\"#C8D4E3\"},\"line\":{\"color\":\"white\"}},\"type\":\"table\"}],\"barpolar\":[{\"marker\":{\"line\":{\"color\":\"#E5ECF6\",\"width\":0.5},\"pattern\":{\"fillmode\":\"overlay\",\"size\":10,\"solidity\":0.2}},\"type\":\"barpolar\"}],\"pie\":[{\"automargin\":true,\"type\":\"pie\"}]},\"layout\":{\"autotypenumbers\":\"strict\",\"colorway\":[\"#636efa\",\"#EF553B\",\"#00cc96\",\"#ab63fa\",\"#FFA15A\",\"#19d3f3\",\"#FF6692\",\"#B6E880\",\"#FF97FF\",\"#FECB52\"],\"font\":{\"color\":\"#2a3f5f\"},\"hovermode\":\"closest\",\"hoverlabel\":{\"align\":\"left\"},\"paper_bgcolor\":\"white\",\"plot_bgcolor\":\"#E5ECF6\",\"polar\":{\"bgcolor\":\"#E5ECF6\",\"angularaxis\":{\"gridcolor\":\"white\",\"linecolor\":\"white\",\"ticks\":\"\"},\"radialaxis\":{\"gridcolor\":\"white\",\"linecolor\":\"white\",\"ticks\":\"\"}},\"ternary\":{\"bgcolor\":\"#E5ECF6\",\"aaxis\":{\"gridcolor\":\"white\",\"linecolor\":\"white\",\"ticks\":\"\"},\"baxis\":{\"gridcolor\":\"white\",\"linecolor\":\"white\",\"ticks\":\"\"},\"caxis\":{\"gridcolor\":\"white\",\"linecolor\":\"white\",\"ticks\":\"\"}},\"coloraxis\":{\"colorbar\":{\"outlinewidth\":0,\"ticks\":\"\"}},\"colorscale\":{\"sequential\":[[0.0,\"#0d0887\"],[0.1111111111111111,\"#46039f\"],[0.2222222222222222,\"#7201a8\"],[0.3333333333333333,\"#9c179e\"],[0.4444444444444444,\"#bd3786\"],[0.5555555555555556,\"#d8576b\"],[0.6666666666666666,\"#ed7953\"],[0.7777777777777778,\"#fb9f3a\"],[0.8888888888888888,\"#fdca26\"],[1.0,\"#f0f921\"]],\"sequentialminus\":[[0.0,\"#0d0887\"],[0.1111111111111111,\"#46039f\"],[0.2222222222222222,\"#7201a8\"],[0.3333333333333333,\"#9c179e\"],[0.4444444444444444,\"#bd3786\"],[0.5555555555555556,\"#d8576b\"],[0.6666666666666666,\"#ed7953\"],[0.7777777777777778,\"#fb9f3a\"],[0.8888888888888888,\"#fdca26\"],[1.0,\"#f0f921\"]],\"diverging\":[[0,\"#8e0152\"],[0.1,\"#c51b7d\"],[0.2,\"#de77ae\"],[0.3,\"#f1b6da\"],[0.4,\"#fde0ef\"],[0.5,\"#f7f7f7\"],[0.6,\"#e6f5d0\"],[0.7,\"#b8e186\"],[0.8,\"#7fbc41\"],[0.9,\"#4d9221\"],[1,\"#276419\"]]},\"xaxis\":{\"gridcolor\":\"white\",\"linecolor\":\"white\",\"ticks\":\"\",\"title\":{\"standoff\":15},\"zerolinecolor\":\"white\",\"automargin\":true,\"zerolinewidth\":2},\"yaxis\":{\"gridcolor\":\"white\",\"linecolor\":\"white\",\"ticks\":\"\",\"title\":{\"standoff\":15},\"zerolinecolor\":\"white\",\"automargin\":true,\"zerolinewidth\":2},\"scene\":{\"xaxis\":{\"backgroundcolor\":\"#E5ECF6\",\"gridcolor\":\"white\",\"linecolor\":\"white\",\"showbackground\":true,\"ticks\":\"\",\"zerolinecolor\":\"white\",\"gridwidth\":2},\"yaxis\":{\"backgroundcolor\":\"#E5ECF6\",\"gridcolor\":\"white\",\"linecolor\":\"white\",\"showbackground\":true,\"ticks\":\"\",\"zerolinecolor\":\"white\",\"gridwidth\":2},\"zaxis\":{\"backgroundcolor\":\"#E5ECF6\",\"gridcolor\":\"white\",\"linecolor\":\"white\",\"showbackground\":true,\"ticks\":\"\",\"zerolinecolor\":\"white\",\"gridwidth\":2}},\"shapedefaults\":{\"line\":{\"color\":\"#2a3f5f\"}},\"annotationdefaults\":{\"arrowcolor\":\"#2a3f5f\",\"arrowhead\":0,\"arrowwidth\":1},\"geo\":{\"bgcolor\":\"white\",\"landcolor\":\"#E5ECF6\",\"subunitcolor\":\"white\",\"showland\":true,\"showlakes\":true,\"lakecolor\":\"white\"},\"title\":{\"x\":0.05},\"mapbox\":{\"style\":\"light\"}}},\"xaxis\":{\"anchor\":\"y\",\"domain\":[0.0,1.0],\"title\":{\"text\":\"bmi\"}},\"yaxis\":{\"anchor\":\"x\",\"domain\":[0.0,1.0],\"title\":{\"text\":\"charges\"}},\"coloraxis\":{\"colorbar\":{\"title\":{\"text\":\"smoker\"}},\"colorscale\":[[0.0,\"#0d0887\"],[0.1111111111111111,\"#46039f\"],[0.2222222222222222,\"#7201a8\"],[0.3333333333333333,\"#9c179e\"],[0.4444444444444444,\"#bd3786\"],[0.5555555555555556,\"#d8576b\"],[0.6666666666666666,\"#ed7953\"],[0.7777777777777778,\"#fb9f3a\"],[0.8888888888888888,\"#fdca26\"],[1.0,\"#f0f921\"]]},\"legend\":{\"tracegroupgap\":0},\"margin\":{\"t\":60}},                        {\"responsive\": true}                    ).then(function(){\n",
              "                            \n",
              "var gd = document.getElementById('f5acf68f-a010-4de0-b234-674c4b986780');\n",
              "var x = new MutationObserver(function (mutations, observer) {{\n",
              "        var display = window.getComputedStyle(gd).display;\n",
              "        if (!display || display === 'none') {{\n",
              "            console.log([gd, 'removed!']);\n",
              "            Plotly.purge(gd);\n",
              "            observer.disconnect();\n",
              "        }}\n",
              "}});\n",
              "\n",
              "// Listen for the removal of the full notebook cells\n",
              "var notebookContainer = gd.closest('#notebook-container');\n",
              "if (notebookContainer) {{\n",
              "    x.observe(notebookContainer, {childList: true});\n",
              "}}\n",
              "\n",
              "// Listen for the clearing of the current output cell\n",
              "var outputEl = gd.closest('.output');\n",
              "if (outputEl) {{\n",
              "    x.observe(outputEl, {childList: true});\n",
              "}}\n",
              "\n",
              "                        })                };                            </script>        </div>\n",
              "</body>\n",
              "</html>"
            ]
          },
          "metadata": {}
        }
      ],
      "source": [
        "px.scatter(data,y='charges',x='bmi',color='smoker')"
      ]
    },
    {
      "cell_type": "markdown",
      "source": [
        "Menurut scatter plot di atas, saya mengambil kesimpulan bahwa yang BMI-nya tinggi + termasuk smoker, cenderung memiliki charges yang besar."
      ],
      "metadata": {
        "id": "TQt0AwOqj5Yi"
      }
    },
    {
      "cell_type": "markdown",
      "source": [
        "#Machine Learning (Regression)"
      ],
      "metadata": {
        "id": "b_L7Mkl2lDiv"
      }
    },
    {
      "cell_type": "code",
      "source": [
        "#menjadikan kolom charges sebagai target\n",
        "y = data.pop('charges')"
      ],
      "metadata": {
        "id": "vj2mpcffvCCI"
      },
      "execution_count": null,
      "outputs": []
    },
    {
      "cell_type": "code",
      "execution_count": null,
      "metadata": {
        "id": "cX3mBAi0r-jq"
      },
      "outputs": [],
      "source": [
        "import sklearn\n",
        "from sklearn.preprocessing import StandardScaler\n",
        "StdSc = StandardScaler()\n",
        "X = StdSc.fit_transform(data)\n",
        "y = y / 1000"
      ]
    },
    {
      "cell_type": "code",
      "execution_count": null,
      "metadata": {
        "id": "ujUWK8Jsr-jq"
      },
      "outputs": [],
      "source": [
        "from sklearn.model_selection import train_test_split\n",
        "\n",
        "X_train, X_test, y_train, y_test = train_test_split(X,y, random_state=42, test_size = 0.3)"
      ]
    },
    {
      "cell_type": "code",
      "execution_count": null,
      "metadata": {
        "id": "GJFt2rn6r-jq"
      },
      "outputs": [],
      "source": [
        "from sklearn.metrics import mean_absolute_error, mean_squared_error, r2_score"
      ]
    },
    {
      "cell_type": "code",
      "execution_count": null,
      "metadata": {
        "id": "KIPMphKEr-jr",
        "outputId": "d235bd18-3020-49eb-c776-7f772b6efe0c",
        "colab": {
          "base_uri": "https://localhost:8080/",
          "height": 482
        }
      },
      "outputs": [
        {
          "output_type": "stream",
          "name": "stdout",
          "text": [
            "r2: 0.7694415927057693\n",
            "MAE: 4.155239843059381\n",
            "RMSE: 5.814246890069995\n"
          ]
        },
        {
          "output_type": "display_data",
          "data": {
            "text/plain": [
              "<Figure size 640x480 with 1 Axes>"
            ],
            "image/png": "[encoded data removed]"
          },
          "metadata": {}
        }
      ],
      "source": [
        "from sklearn.linear_model import LinearRegression\n",
        "model = LinearRegression()\n",
        "model.fit(X_train, y_train)\n",
        "y_predict = model.predict(X_test)\n",
        "y_pred = y_predict.flatten()\n",
        "\n",
        "print('r2:', r2_score(y_test,y_predict))\n",
        "print('MAE:', mean_absolute_error(y_test,y_predict))\n",
        "print('RMSE:', (mean_squared_error(y_test,y_predict)**0.5))\n",
        "\n",
        "plt.scatter(y_test, y_pred)\n",
        "plt.plot(np.arange(0,50), np.arange(0, 50), color = 'green')\n",
        "plt.grid(True)"
      ]
    },
    {
      "cell_type": "code",
      "execution_count": null,
      "metadata": {
        "id": "sWpDJ6Ler-js",
        "outputId": "cf37d33e-bf27-422a-bce8-6dc51e58a67f",
        "colab": {
          "base_uri": "https://localhost:8080/",
          "height": 482
        }
      },
      "outputs": [
        {
          "output_type": "stream",
          "name": "stdout",
          "text": [
            "r2: 0.7037831216177682\n",
            "MAE: 2.990907923778607\n",
            "RMSE: 6.590341021476298\n"
          ]
        },
        {
          "output_type": "display_data",
          "data": {
            "text/plain": [
              "<Figure size 640x480 with 1 Axes>"
            ],
            "image/png": "[encoded data removed]"
          },
          "metadata": {}
        }
      ],
      "source": [
        "from sklearn.tree import DecisionTreeRegressor\n",
        "model = DecisionTreeRegressor()\n",
        "model.fit(X_train, y_train)\n",
        "y_predict = model.predict(X_test)\n",
        "y_pred = y_predict.flatten()\n",
        "\n",
        "print('r2:', r2_score(y_test,y_predict))\n",
        "print('MAE:', mean_absolute_error(y_test,y_predict))\n",
        "print('RMSE:', (mean_squared_error(y_test,y_predict)**0.5))\n",
        "\n",
        "plt.scatter(y_test, y_pred)\n",
        "plt.plot(np.arange(0,50), np.arange(0, 50), color = 'green')\n",
        "plt.grid(True)"
      ]
    },
    {
      "cell_type": "code",
      "execution_count": null,
      "metadata": {
        "id": "zseMwQCZr-js",
        "outputId": "bfd4ac13-af6f-4e7a-aa46-f09d8262ad95",
        "colab": {
          "base_uri": "https://localhost:8080/",
          "height": 482
        }
      },
      "outputs": [
        {
          "output_type": "stream",
          "name": "stdout",
          "text": [
            "r2: 0.7730920674585434\n",
            "MAE: 2.561862832210723\n",
            "RMSE: 5.768034202791981\n"
          ]
        },
        {
          "output_type": "display_data",
          "data": {
            "text/plain": [
              "<Figure size 640x480 with 1 Axes>"
            ],
            "image/png": "[encoded data removed]"
          },
          "metadata": {}
        }
      ],
      "source": [
        "from sklearn.svm import SVR\n",
        "model = SVR()\n",
        "model.fit(X_train, y_train)\n",
        "y_predict = model.predict(X_test)\n",
        "y_pred = y_predict.flatten()\n",
        "\n",
        "print('r2:', r2_score(y_test,y_predict))\n",
        "print('MAE:', mean_absolute_error(y_test,y_predict))\n",
        "print('RMSE:', (mean_squared_error(y_test,y_predict)**0.5))\n",
        "\n",
        "plt.scatter(y_test, y_pred)\n",
        "plt.plot(np.arange(0,50), np.arange(0, 50), color = 'green')\n",
        "plt.grid(True)"
      ]
    },
    {
      "cell_type": "markdown",
      "source": [
        "###Kesimpulan (Machine Learning - Regression)\n",
        "\n",
        "- Hasil dari penerepan model regresi di atas adalah model SVR (Super Vector Regression)\n",
        "- Hasil scatter plotnya menunjukan bahwa adanya hubungan yang positif antara variabel X dan variabel Y. Ini terlihat dari persebaran data yang naik dari kiri ke kanan\n",
        "- Hasil R^2 sebesar 0.773 menunjukkan bahwa 77.3% variasi variabel Y dapat dijelaskan oleh variabel X. Dapat dikatakan bahwa antara X dan Y memiliki hubungan keterkaitan yang lumayan kuat antara kedua variabel.\n",
        "- Mean Absolute Error (MAE) sebesar 2.56 menunjukkan bahwa rata-rata kesalahan prediksi model adalah 2.56\n",
        "- Root Mean Squared Error (RMSE) sebesar 5.76 menunjukkan bahwa rata-rata kesalahan prediksi model dalam satuan kuadrat adalah 5.76\n",
        "\n",
        "Dapat disimpulkan bahwa model regresi yang dihasilkan cukup akurat (hasil R^2, MAE, RMSE masih dapat diperbaiki dengan mengubah ratio pembagian data menjadi 8:2) dalam memprediksi nilai Y.\n",
        "\n"
      ],
      "metadata": {
        "id": "3c4swOfLmMqS"
      }
    },
    {
      "cell_type": "markdown",
      "source": [
        "#Deep Learning (ANN Regression)"
      ],
      "metadata": {
        "id": "wtbrA46y---p"
      }
    },
    {
      "cell_type": "code",
      "source": [
        "# import library\n",
        "import pandas as pd\n",
        "import numpy as np\n",
        "import matplotlib.pyplot as plt\n",
        "import keras\n",
        "from keras.models import Sequential\n",
        "from keras.layers import Dense\n",
        "from sklearn.model_selection import train_test_split\n",
        "from keras import models, layers, optimizers"
      ],
      "metadata": {
        "id": "4i_jdqRWUpWa"
      },
      "execution_count": null,
      "outputs": []
    },
    {
      "cell_type": "code",
      "source": [
        "df = pd.read_csv('/content/gdrive/MyDrive/Stupen/Deep Learning/insurance.csv')\n",
        "print(df.shape)\n",
        "df.head()"
      ],
      "metadata": {
        "colab": {
          "base_uri": "https://localhost:8080/",
          "height": 224
        },
        "id": "jDiyR-oM_rMb",
        "outputId": "50ad500f-a57a-4946-8d51-f29f5297ff6c"
      },
      "execution_count": null,
      "outputs": [
        {
          "output_type": "stream",
          "name": "stdout",
          "text": [
            "(1338, 7)\n"
          ]
        },
        {
          "output_type": "execute_result",
          "data": {
            "text/plain": [
              "   age     sex     bmi  children smoker     region      charges\n",
              "0   19  female  27.900         0    yes  southwest  16884.92400\n",
              "1   18    male  33.770         1     no  southeast   1725.55230\n",
              "2   28    male  33.000         3     no  southeast   4449.46200\n",
              "3   33    male  22.705         0     no  northwest  21984.47061\n",
              "4   32    male  28.880         0     no  northwest   3866.85520"
            ],
            "text/html": [
              "\n",
              "  <div id=\"df-b5368121-27dc-4277-ac53-c4f14a57549c\" class=\"colab-df-container\">\n",
              "    <div>\n",
              "<style scoped>\n",
              "    .dataframe tbody tr th:only-of-type {\n",
              "        vertical-align: middle;\n",
              "    }\n",
              "\n",
              "    .dataframe tbody tr th {\n",
              "        vertical-align: top;\n",
              "    }\n",
              "\n",
              "    .dataframe thead th {\n",
              "        text-align: right;\n",
              "    }\n",
              "</style>\n",
              "<table border=\"1\" class=\"dataframe\">\n",
              "  <thead>\n",
              "    <tr style=\"text-align: right;\">\n",
              "      <th></th>\n",
              "      <th>age</th>\n",
              "      <th>sex</th>\n",
              "      <th>bmi</th>\n",
              "      <th>children</th>\n",
              "      <th>smoker</th>\n",
              "      <th>region</th>\n",
              "      <th>charges</th>\n",
              "    </tr>\n",
              "  </thead>\n",
              "  <tbody>\n",
              "    <tr>\n",
              "      <th>0</th>\n",
              "      <td>19</td>\n",
              "      <td>female</td>\n",
              "      <td>27.900</td>\n",
              "      <td>0</td>\n",
              "      <td>yes</td>\n",
              "      <td>southwest</td>\n",
              "      <td>16884.92400</td>\n",
              "    </tr>\n",
              "    <tr>\n",
              "      <th>1</th>\n",
              "      <td>18</td>\n",
              "      <td>male</td>\n",
              "      <td>33.770</td>\n",
              "      <td>1</td>\n",
              "      <td>no</td>\n",
              "      <td>southeast</td>\n",
              "      <td>1725.55230</td>\n",
              "    </tr>\n",
              "    <tr>\n",
              "      <th>2</th>\n",
              "      <td>28</td>\n",
              "      <td>male</td>\n",
              "      <td>33.000</td>\n",
              "      <td>3</td>\n",
              "      <td>no</td>\n",
              "      <td>southeast</td>\n",
              "      <td>4449.46200</td>\n",
              "    </tr>\n",
              "    <tr>\n",
              "      <th>3</th>\n",
              "      <td>33</td>\n",
              "      <td>male</td>\n",
              "      <td>22.705</td>\n",
              "      <td>0</td>\n",
              "      <td>no</td>\n",
              "      <td>northwest</td>\n",
              "      <td>21984.47061</td>\n",
              "    </tr>\n",
              "    <tr>\n",
              "      <th>4</th>\n",
              "      <td>32</td>\n",
              "      <td>male</td>\n",
              "      <td>28.880</td>\n",
              "      <td>0</td>\n",
              "      <td>no</td>\n",
              "      <td>northwest</td>\n",
              "      <td>3866.85520</td>\n",
              "    </tr>\n",
              "  </tbody>\n",
              "</table>\n",
              "</div>\n",
              "    <div class=\"colab-df-buttons\">\n",
              "\n",
              "  <div class=\"colab-df-container\">\n",
              "    <button class=\"colab-df-convert\" onclick=\"convertToInteractive('df-b5368121-27dc-4277-ac53-c4f14a57549c')\"\n",
              "            title=\"Convert this dataframe to an interactive table.\"\n",
              "            style=\"display:none;\">\n",
              "\n",
              "  <svg xmlns=\"http://www.w3.org/2000/svg\" height=\"24px\" viewBox=\"0 -960 960 960\">\n",
              "    <path d=\"M120-120v-720h720v720H120Zm60-500h600v-160H180v160Zm220 220h160v-160H400v160Zm0 220h160v-160H400v160ZM180-400h160v-160H180v160Zm440 0h160v-160H620v160ZM180-180h160v-160H180v160Zm440 0h160v-160H620v160Z\"/>\n",
              "  </svg>\n",
              "    </button>\n",
              "\n",
              "  <style>\n",
              "    .colab-df-container {\n",
              "      display:flex;\n",
              "      gap: 12px;\n",
              "    }\n",
              "\n",
              "    .colab-df-convert {\n",
              "      background-color: #E8F0FE;\n",
              "      border: none;\n",
              "      border-radius: 50%;\n",
              "      cursor: pointer;\n",
              "      display: none;\n",
              "      fill: #1967D2;\n",
              "      height: 32px;\n",
              "      padding: 0 0 0 0;\n",
              "      width: 32px;\n",
              "    }\n",
              "\n",
              "    .colab-df-convert:hover {\n",
              "      background-color: #E2EBFA;\n",
              "      box-shadow: 0px 1px 2px rgba(60, 64, 67, 0.3), 0px 1px 3px 1px rgba(60, 64, 67, 0.15);\n",
              "      fill: #174EA6;\n",
              "    }\n",
              "\n",
              "    .colab-df-buttons div {\n",
              "      margin-bottom: 4px;\n",
              "    }\n",
              "\n",
              "    [theme=dark] .colab-df-convert {\n",
              "      background-color: #3B4455;\n",
              "      fill: #D2E3FC;\n",
              "    }\n",
              "\n",
              "    [theme=dark] .colab-df-convert:hover {\n",
              "      background-color: #434B5C;\n",
              "      box-shadow: 0px 1px 3px 1px rgba(0, 0, 0, 0.15);\n",
              "      filter: drop-shadow(0px 1px 2px rgba(0, 0, 0, 0.3));\n",
              "      fill: #FFFFFF;\n",
              "    }\n",
              "  </style>\n",
              "\n",
              "    <script>\n",
              "      const buttonEl =\n",
              "        document.querySelector('#df-b5368121-27dc-4277-ac53-c4f14a57549c button.colab-df-convert');\n",
              "      buttonEl.style.display =\n",
              "        google.colab.kernel.accessAllowed ? 'block' : 'none';\n",
              "\n",
              "      async function convertToInteractive(key) {\n",
              "        const element = document.querySelector('#df-b5368121-27dc-4277-ac53-c4f14a57549c');\n",
              "        const dataTable =\n",
              "          await google.colab.kernel.invokeFunction('convertToInteractive',\n",
              "                                                    [key], {});\n",
              "        if (!dataTable) return;\n",
              "\n",
              "        const docLinkHtml = 'Like what you see? Visit the ' +\n",
              "          '<a target=\"_blank\" href=https://colab.research.google.com/notebooks/data_table.ipynb>data table notebook</a>'\n",
              "          + ' to learn more about interactive tables.';\n",
              "        element.innerHTML = '';\n",
              "        dataTable['output_type'] = 'display_data';\n",
              "        await google.colab.output.renderOutput(dataTable, element);\n",
              "        const docLink = document.createElement('div');\n",
              "        docLink.innerHTML = docLinkHtml;\n",
              "        element.appendChild(docLink);\n",
              "      }\n",
              "    </script>\n",
              "  </div>\n",
              "\n",
              "\n",
              "<div id=\"df-59676d6f-b9ad-4a7f-88e8-fb5c66d7ca78\">\n",
              "  <button class=\"colab-df-quickchart\" onclick=\"quickchart('df-59676d6f-b9ad-4a7f-88e8-fb5c66d7ca78')\"\n",
              "            title=\"Suggest charts\"\n",
              "            style=\"display:none;\">\n",
              "\n",
              "<svg xmlns=\"http://www.w3.org/2000/svg\" height=\"24px\"viewBox=\"0 0 24 24\"\n",
              "     width=\"24px\">\n",
              "    <g>\n",
              "        <path d=\"M19 3H5c-1.1 0-2 .9-2 2v14c0 1.1.9 2 2 2h14c1.1 0 2-.9 2-2V5c0-1.1-.9-2-2-2zM9 17H7v-7h2v7zm4 0h-2V7h2v10zm4 0h-2v-4h2v4z\"/>\n",
              "    </g>\n",
              "</svg>\n",
              "  </button>\n",
              "\n",
              "<style>\n",
              "  .colab-df-quickchart {\n",
              "      --bg-color: #E8F0FE;\n",
              "      --fill-color: #1967D2;\n",
              "      --hover-bg-color: #E2EBFA;\n",
              "      --hover-fill-color: #174EA6;\n",
              "      --disabled-fill-color: #AAA;\n",
              "      --disabled-bg-color: #DDD;\n",
              "  }\n",
              "\n",
              "  [theme=dark] .colab-df-quickchart {\n",
              "      --bg-color: #3B4455;\n",
              "      --fill-color: #D2E3FC;\n",
              "      --hover-bg-color: #434B5C;\n",
              "      --hover-fill-color: #FFFFFF;\n",
              "      --disabled-bg-color: #3B4455;\n",
              "      --disabled-fill-color: #666;\n",
              "  }\n",
              "\n",
              "  .colab-df-quickchart {\n",
              "    background-color: var(--bg-color);\n",
              "    border: none;\n",
              "    border-radius: 50%;\n",
              "    cursor: pointer;\n",
              "    display: none;\n",
              "    fill: var(--fill-color);\n",
              "    height: 32px;\n",
              "    padding: 0;\n",
              "    width: 32px;\n",
              "  }\n",
              "\n",
              "  .colab-df-quickchart:hover {\n",
              "    background-color: var(--hover-bg-color);\n",
              "    box-shadow: 0 1px 2px rgba(60, 64, 67, 0.3), 0 1px 3px 1px rgba(60, 64, 67, 0.15);\n",
              "    fill: var(--button-hover-fill-color);\n",
              "  }\n",
              "\n",
              "  .colab-df-quickchart-complete:disabled,\n",
              "  .colab-df-quickchart-complete:disabled:hover {\n",
              "    background-color: var(--disabled-bg-color);\n",
              "    fill: var(--disabled-fill-color);\n",
              "    box-shadow: none;\n",
              "  }\n",
              "\n",
              "  .colab-df-spinner {\n",
              "    border: 2px solid var(--fill-color);\n",
              "    border-color: transparent;\n",
              "    border-bottom-color: var(--fill-color);\n",
              "    animation:\n",
              "      spin 1s steps(1) infinite;\n",
              "  }\n",
              "\n",
              "  @keyframes spin {\n",
              "    0% {\n",
              "      border-color: transparent;\n",
              "      border-bottom-color: var(--fill-color);\n",
              "      border-left-color: var(--fill-color);\n",
              "    }\n",
              "    20% {\n",
              "      border-color: transparent;\n",
              "      border-left-color: var(--fill-color);\n",
              "      border-top-color: var(--fill-color);\n",
              "    }\n",
              "    30% {\n",
              "      border-color: transparent;\n",
              "      border-left-color: var(--fill-color);\n",
              "      border-top-color: var(--fill-color);\n",
              "      border-right-color: var(--fill-color);\n",
              "    }\n",
              "    40% {\n",
              "      border-color: transparent;\n",
              "      border-right-color: var(--fill-color);\n",
              "      border-top-color: var(--fill-color);\n",
              "    }\n",
              "    60% {\n",
              "      border-color: transparent;\n",
              "      border-right-color: var(--fill-color);\n",
              "    }\n",
              "    80% {\n",
              "      border-color: transparent;\n",
              "      border-right-color: var(--fill-color);\n",
              "      border-bottom-color: var(--fill-color);\n",
              "    }\n",
              "    90% {\n",
              "      border-color: transparent;\n",
              "      border-bottom-color: var(--fill-color);\n",
              "    }\n",
              "  }\n",
              "</style>\n",
              "\n",
              "  <script>\n",
              "    async function quickchart(key) {\n",
              "      const quickchartButtonEl =\n",
              "        document.querySelector('#' + key + ' button');\n",
              "      quickchartButtonEl.disabled = true;  // To prevent multiple clicks.\n",
              "      quickchartButtonEl.classList.add('colab-df-spinner');\n",
              "      try {\n",
              "        const charts = await google.colab.kernel.invokeFunction(\n",
              "            'suggestCharts', [key], {});\n",
              "      } catch (error) {\n",
              "        console.error('Error during call to suggestCharts:', error);\n",
              "      }\n",
              "      quickchartButtonEl.classList.remove('colab-df-spinner');\n",
              "      quickchartButtonEl.classList.add('colab-df-quickchart-complete');\n",
              "    }\n",
              "    (() => {\n",
              "      let quickchartButtonEl =\n",
              "        document.querySelector('#df-59676d6f-b9ad-4a7f-88e8-fb5c66d7ca78 button');\n",
              "      quickchartButtonEl.style.display =\n",
              "        google.colab.kernel.accessAllowed ? 'block' : 'none';\n",
              "    })();\n",
              "  </script>\n",
              "</div>\n",
              "    </div>\n",
              "  </div>\n"
            ],
            "application/vnd.google.colaboratory.intrinsic+json": {
              "type": "dataframe",
              "variable_name": "df",
              "summary": "{\n  \"name\": \"df\",\n  \"rows\": 1338,\n  \"fields\": [\n    {\n      \"column\": \"age\",\n      \"properties\": {\n        \"dtype\": \"number\",\n        \"std\": 14,\n        \"min\": 18,\n        \"max\": 64,\n        \"num_unique_values\": 47,\n        \"samples\": [\n          21,\n          45,\n          36\n        ],\n        \"semantic_type\": \"\",\n        \"description\": \"\"\n      }\n    },\n    {\n      \"column\": \"sex\",\n      \"properties\": {\n        \"dtype\": \"category\",\n        \"num_unique_values\": 2,\n        \"samples\": [\n          \"male\",\n          \"female\"\n        ],\n        \"semantic_type\": \"\",\n        \"description\": \"\"\n      }\n    },\n    {\n      \"column\": \"bmi\",\n      \"properties\": {\n        \"dtype\": \"number\",\n        \"std\": 6.098186911679014,\n        \"min\": 15.96,\n        \"max\": 53.13,\n        \"num_unique_values\": 548,\n        \"samples\": [\n          23.18,\n          26.885\n        ],\n        \"semantic_type\": \"\",\n        \"description\": \"\"\n      }\n    },\n    {\n      \"column\": \"children\",\n      \"properties\": {\n        \"dtype\": \"number\",\n        \"std\": 1,\n        \"min\": 0,\n        \"max\": 5,\n        \"num_unique_values\": 6,\n        \"samples\": [\n          0,\n          1\n        ],\n        \"semantic_type\": \"\",\n        \"description\": \"\"\n      }\n    },\n    {\n      \"column\": \"smoker\",\n      \"properties\": {\n        \"dtype\": \"category\",\n        \"num_unique_values\": 2,\n        \"samples\": [\n          \"no\",\n          \"yes\"\n        ],\n        \"semantic_type\": \"\",\n        \"description\": \"\"\n      }\n    },\n    {\n      \"column\": \"region\",\n      \"properties\": {\n        \"dtype\": \"category\",\n        \"num_unique_values\": 4,\n        \"samples\": [\n          \"southeast\",\n          \"northeast\"\n        ],\n        \"semantic_type\": \"\",\n        \"description\": \"\"\n      }\n    },\n    {\n      \"column\": \"charges\",\n      \"properties\": {\n        \"dtype\": \"number\",\n        \"std\": 12110.011236694001,\n        \"min\": 1121.8739,\n        \"max\": 63770.42801,\n        \"num_unique_values\": 1337,\n        \"samples\": [\n          8688.85885,\n          5708.867\n        ],\n        \"semantic_type\": \"\",\n        \"description\": \"\"\n      }\n    }\n  ]\n}"
            }
          },
          "metadata": {},
          "execution_count": 5
        }
      ]
    },
    {
      "cell_type": "code",
      "source": [
        "from sklearn.preprocessing import LabelEncoder\n",
        "\n",
        "le = LabelEncoder()\n",
        "df[\"sex\"] = le.fit_transform(df[\"sex\"])\n",
        "df[\"smoker\"] = le.fit_transform(df[\"smoker\"])\n",
        "df[\"region\"] = le.fit_transform(df[\"region\"])"
      ],
      "metadata": {
        "id": "Mmin_E0UgjPT"
      },
      "execution_count": null,
      "outputs": []
    },
    {
      "cell_type": "code",
      "source": [
        "df.head()"
      ],
      "metadata": {
        "colab": {
          "base_uri": "https://localhost:8080/",
          "height": 206
        },
        "id": "26C89smNW0RX",
        "outputId": "576f6885-ff07-4663-a3a9-6052a5101eb9"
      },
      "execution_count": null,
      "outputs": [
        {
          "output_type": "execute_result",
          "data": {
            "text/plain": [
              "   age  sex     bmi  children  smoker  region      charges\n",
              "0   19    0  27.900         0       1       3  16884.92400\n",
              "1   18    1  33.770         1       0       2   1725.55230\n",
              "2   28    1  33.000         3       0       2   4449.46200\n",
              "3   33    1  22.705         0       0       1  21984.47061\n",
              "4   32    1  28.880         0       0       1   3866.85520"
            ],
            "text/html": [
              "\n",
              "  <div id=\"df-71ac904c-d883-4fd6-b2a5-d109449836dd\" class=\"colab-df-container\">\n",
              "    <div>\n",
              "<style scoped>\n",
              "    .dataframe tbody tr th:only-of-type {\n",
              "        vertical-align: middle;\n",
              "    }\n",
              "\n",
              "    .dataframe tbody tr th {\n",
              "        vertical-align: top;\n",
              "    }\n",
              "\n",
              "    .dataframe thead th {\n",
              "        text-align: right;\n",
              "    }\n",
              "</style>\n",
              "<table border=\"1\" class=\"dataframe\">\n",
              "  <thead>\n",
              "    <tr style=\"text-align: right;\">\n",
              "      <th></th>\n",
              "      <th>age</th>\n",
              "      <th>sex</th>\n",
              "      <th>bmi</th>\n",
              "      <th>children</th>\n",
              "      <th>smoker</th>\n",
              "      <th>region</th>\n",
              "      <th>charges</th>\n",
              "    </tr>\n",
              "  </thead>\n",
              "  <tbody>\n",
              "    <tr>\n",
              "      <th>0</th>\n",
              "      <td>19</td>\n",
              "      <td>0</td>\n",
              "      <td>27.900</td>\n",
              "      <td>0</td>\n",
              "      <td>1</td>\n",
              "      <td>3</td>\n",
              "      <td>16884.92400</td>\n",
              "    </tr>\n",
              "    <tr>\n",
              "      <th>1</th>\n",
              "      <td>18</td>\n",
              "      <td>1</td>\n",
              "      <td>33.770</td>\n",
              "      <td>1</td>\n",
              "      <td>0</td>\n",
              "      <td>2</td>\n",
              "      <td>1725.55230</td>\n",
              "    </tr>\n",
              "    <tr>\n",
              "      <th>2</th>\n",
              "      <td>28</td>\n",
              "      <td>1</td>\n",
              "      <td>33.000</td>\n",
              "      <td>3</td>\n",
              "      <td>0</td>\n",
              "      <td>2</td>\n",
              "      <td>4449.46200</td>\n",
              "    </tr>\n",
              "    <tr>\n",
              "      <th>3</th>\n",
              "      <td>33</td>\n",
              "      <td>1</td>\n",
              "      <td>22.705</td>\n",
              "      <td>0</td>\n",
              "      <td>0</td>\n",
              "      <td>1</td>\n",
              "      <td>21984.47061</td>\n",
              "    </tr>\n",
              "    <tr>\n",
              "      <th>4</th>\n",
              "      <td>32</td>\n",
              "      <td>1</td>\n",
              "      <td>28.880</td>\n",
              "      <td>0</td>\n",
              "      <td>0</td>\n",
              "      <td>1</td>\n",
              "      <td>3866.85520</td>\n",
              "    </tr>\n",
              "  </tbody>\n",
              "</table>\n",
              "</div>\n",
              "    <div class=\"colab-df-buttons\">\n",
              "\n",
              "  <div class=\"colab-df-container\">\n",
              "    <button class=\"colab-df-convert\" onclick=\"convertToInteractive('df-71ac904c-d883-4fd6-b2a5-d109449836dd')\"\n",
              "            title=\"Convert this dataframe to an interactive table.\"\n",
              "            style=\"display:none;\">\n",
              "\n",
              "  <svg xmlns=\"http://www.w3.org/2000/svg\" height=\"24px\" viewBox=\"0 -960 960 960\">\n",
              "    <path d=\"M120-120v-720h720v720H120Zm60-500h600v-160H180v160Zm220 220h160v-160H400v160Zm0 220h160v-160H400v160ZM180-400h160v-160H180v160Zm440 0h160v-160H620v160ZM180-180h160v-160H180v160Zm440 0h160v-160H620v160Z\"/>\n",
              "  </svg>\n",
              "    </button>\n",
              "\n",
              "  <style>\n",
              "    .colab-df-container {\n",
              "      display:flex;\n",
              "      gap: 12px;\n",
              "    }\n",
              "\n",
              "    .colab-df-convert {\n",
              "      background-color: #E8F0FE;\n",
              "      border: none;\n",
              "      border-radius: 50%;\n",
              "      cursor: pointer;\n",
              "      display: none;\n",
              "      fill: #1967D2;\n",
              "      height: 32px;\n",
              "      padding: 0 0 0 0;\n",
              "      width: 32px;\n",
              "    }\n",
              "\n",
              "    .colab-df-convert:hover {\n",
              "      background-color: #E2EBFA;\n",
              "      box-shadow: 0px 1px 2px rgba(60, 64, 67, 0.3), 0px 1px 3px 1px rgba(60, 64, 67, 0.15);\n",
              "      fill: #174EA6;\n",
              "    }\n",
              "\n",
              "    .colab-df-buttons div {\n",
              "      margin-bottom: 4px;\n",
              "    }\n",
              "\n",
              "    [theme=dark] .colab-df-convert {\n",
              "      background-color: #3B4455;\n",
              "      fill: #D2E3FC;\n",
              "    }\n",
              "\n",
              "    [theme=dark] .colab-df-convert:hover {\n",
              "      background-color: #434B5C;\n",
              "      box-shadow: 0px 1px 3px 1px rgba(0, 0, 0, 0.15);\n",
              "      filter: drop-shadow(0px 1px 2px rgba(0, 0, 0, 0.3));\n",
              "      fill: #FFFFFF;\n",
              "    }\n",
              "  </style>\n",
              "\n",
              "    <script>\n",
              "      const buttonEl =\n",
              "        document.querySelector('#df-71ac904c-d883-4fd6-b2a5-d109449836dd button.colab-df-convert');\n",
              "      buttonEl.style.display =\n",
              "        google.colab.kernel.accessAllowed ? 'block' : 'none';\n",
              "\n",
              "      async function convertToInteractive(key) {\n",
              "        const element = document.querySelector('#df-71ac904c-d883-4fd6-b2a5-d109449836dd');\n",
              "        const dataTable =\n",
              "          await google.colab.kernel.invokeFunction('convertToInteractive',\n",
              "                                                    [key], {});\n",
              "        if (!dataTable) return;\n",
              "\n",
              "        const docLinkHtml = 'Like what you see? Visit the ' +\n",
              "          '<a target=\"_blank\" href=https://colab.research.google.com/notebooks/data_table.ipynb>data table notebook</a>'\n",
              "          + ' to learn more about interactive tables.';\n",
              "        element.innerHTML = '';\n",
              "        dataTable['output_type'] = 'display_data';\n",
              "        await google.colab.output.renderOutput(dataTable, element);\n",
              "        const docLink = document.createElement('div');\n",
              "        docLink.innerHTML = docLinkHtml;\n",
              "        element.appendChild(docLink);\n",
              "      }\n",
              "    </script>\n",
              "  </div>\n",
              "\n",
              "\n",
              "<div id=\"df-dcd5bfe3-2f34-479e-9337-0d5243f1acd4\">\n",
              "  <button class=\"colab-df-quickchart\" onclick=\"quickchart('df-dcd5bfe3-2f34-479e-9337-0d5243f1acd4')\"\n",
              "            title=\"Suggest charts\"\n",
              "            style=\"display:none;\">\n",
              "\n",
              "<svg xmlns=\"http://www.w3.org/2000/svg\" height=\"24px\"viewBox=\"0 0 24 24\"\n",
              "     width=\"24px\">\n",
              "    <g>\n",
              "        <path d=\"M19 3H5c-1.1 0-2 .9-2 2v14c0 1.1.9 2 2 2h14c1.1 0 2-.9 2-2V5c0-1.1-.9-2-2-2zM9 17H7v-7h2v7zm4 0h-2V7h2v10zm4 0h-2v-4h2v4z\"/>\n",
              "    </g>\n",
              "</svg>\n",
              "  </button>\n",
              "\n",
              "<style>\n",
              "  .colab-df-quickchart {\n",
              "      --bg-color: #E8F0FE;\n",
              "      --fill-color: #1967D2;\n",
              "      --hover-bg-color: #E2EBFA;\n",
              "      --hover-fill-color: #174EA6;\n",
              "      --disabled-fill-color: #AAA;\n",
              "      --disabled-bg-color: #DDD;\n",
              "  }\n",
              "\n",
              "  [theme=dark] .colab-df-quickchart {\n",
              "      --bg-color: #3B4455;\n",
              "      --fill-color: #D2E3FC;\n",
              "      --hover-bg-color: #434B5C;\n",
              "      --hover-fill-color: #FFFFFF;\n",
              "      --disabled-bg-color: #3B4455;\n",
              "      --disabled-fill-color: #666;\n",
              "  }\n",
              "\n",
              "  .colab-df-quickchart {\n",
              "    background-color: var(--bg-color);\n",
              "    border: none;\n",
              "    border-radius: 50%;\n",
              "    cursor: pointer;\n",
              "    display: none;\n",
              "    fill: var(--fill-color);\n",
              "    height: 32px;\n",
              "    padding: 0;\n",
              "    width: 32px;\n",
              "  }\n",
              "\n",
              "  .colab-df-quickchart:hover {\n",
              "    background-color: var(--hover-bg-color);\n",
              "    box-shadow: 0 1px 2px rgba(60, 64, 67, 0.3), 0 1px 3px 1px rgba(60, 64, 67, 0.15);\n",
              "    fill: var(--button-hover-fill-color);\n",
              "  }\n",
              "\n",
              "  .colab-df-quickchart-complete:disabled,\n",
              "  .colab-df-quickchart-complete:disabled:hover {\n",
              "    background-color: var(--disabled-bg-color);\n",
              "    fill: var(--disabled-fill-color);\n",
              "    box-shadow: none;\n",
              "  }\n",
              "\n",
              "  .colab-df-spinner {\n",
              "    border: 2px solid var(--fill-color);\n",
              "    border-color: transparent;\n",
              "    border-bottom-color: var(--fill-color);\n",
              "    animation:\n",
              "      spin 1s steps(1) infinite;\n",
              "  }\n",
              "\n",
              "  @keyframes spin {\n",
              "    0% {\n",
              "      border-color: transparent;\n",
              "      border-bottom-color: var(--fill-color);\n",
              "      border-left-color: var(--fill-color);\n",
              "    }\n",
              "    20% {\n",
              "      border-color: transparent;\n",
              "      border-left-color: var(--fill-color);\n",
              "      border-top-color: var(--fill-color);\n",
              "    }\n",
              "    30% {\n",
              "      border-color: transparent;\n",
              "      border-left-color: var(--fill-color);\n",
              "      border-top-color: var(--fill-color);\n",
              "      border-right-color: var(--fill-color);\n",
              "    }\n",
              "    40% {\n",
              "      border-color: transparent;\n",
              "      border-right-color: var(--fill-color);\n",
              "      border-top-color: var(--fill-color);\n",
              "    }\n",
              "    60% {\n",
              "      border-color: transparent;\n",
              "      border-right-color: var(--fill-color);\n",
              "    }\n",
              "    80% {\n",
              "      border-color: transparent;\n",
              "      border-right-color: var(--fill-color);\n",
              "      border-bottom-color: var(--fill-color);\n",
              "    }\n",
              "    90% {\n",
              "      border-color: transparent;\n",
              "      border-bottom-color: var(--fill-color);\n",
              "    }\n",
              "  }\n",
              "</style>\n",
              "\n",
              "  <script>\n",
              "    async function quickchart(key) {\n",
              "      const quickchartButtonEl =\n",
              "        document.querySelector('#' + key + ' button');\n",
              "      quickchartButtonEl.disabled = true;  // To prevent multiple clicks.\n",
              "      quickchartButtonEl.classList.add('colab-df-spinner');\n",
              "      try {\n",
              "        const charts = await google.colab.kernel.invokeFunction(\n",
              "            'suggestCharts', [key], {});\n",
              "      } catch (error) {\n",
              "        console.error('Error during call to suggestCharts:', error);\n",
              "      }\n",
              "      quickchartButtonEl.classList.remove('colab-df-spinner');\n",
              "      quickchartButtonEl.classList.add('colab-df-quickchart-complete');\n",
              "    }\n",
              "    (() => {\n",
              "      let quickchartButtonEl =\n",
              "        document.querySelector('#df-dcd5bfe3-2f34-479e-9337-0d5243f1acd4 button');\n",
              "      quickchartButtonEl.style.display =\n",
              "        google.colab.kernel.accessAllowed ? 'block' : 'none';\n",
              "    })();\n",
              "  </script>\n",
              "</div>\n",
              "    </div>\n",
              "  </div>\n"
            ],
            "application/vnd.google.colaboratory.intrinsic+json": {
              "type": "dataframe",
              "variable_name": "df",
              "summary": "{\n  \"name\": \"df\",\n  \"rows\": 1338,\n  \"fields\": [\n    {\n      \"column\": \"age\",\n      \"properties\": {\n        \"dtype\": \"number\",\n        \"std\": 14,\n        \"min\": 18,\n        \"max\": 64,\n        \"num_unique_values\": 47,\n        \"samples\": [\n          21,\n          45,\n          36\n        ],\n        \"semantic_type\": \"\",\n        \"description\": \"\"\n      }\n    },\n    {\n      \"column\": \"sex\",\n      \"properties\": {\n        \"dtype\": \"number\",\n        \"std\": 0,\n        \"min\": 0,\n        \"max\": 1,\n        \"num_unique_values\": 2,\n        \"samples\": [\n          1,\n          0\n        ],\n        \"semantic_type\": \"\",\n        \"description\": \"\"\n      }\n    },\n    {\n      \"column\": \"bmi\",\n      \"properties\": {\n        \"dtype\": \"number\",\n        \"std\": 6.098186911679014,\n        \"min\": 15.96,\n        \"max\": 53.13,\n        \"num_unique_values\": 548,\n        \"samples\": [\n          23.18,\n          26.885\n        ],\n        \"semantic_type\": \"\",\n        \"description\": \"\"\n      }\n    },\n    {\n      \"column\": \"children\",\n      \"properties\": {\n        \"dtype\": \"number\",\n        \"std\": 1,\n        \"min\": 0,\n        \"max\": 5,\n        \"num_unique_values\": 6,\n        \"samples\": [\n          0,\n          1\n        ],\n        \"semantic_type\": \"\",\n        \"description\": \"\"\n      }\n    },\n    {\n      \"column\": \"smoker\",\n      \"properties\": {\n        \"dtype\": \"number\",\n        \"std\": 0,\n        \"min\": 0,\n        \"max\": 1,\n        \"num_unique_values\": 2,\n        \"samples\": [\n          0,\n          1\n        ],\n        \"semantic_type\": \"\",\n        \"description\": \"\"\n      }\n    },\n    {\n      \"column\": \"region\",\n      \"properties\": {\n        \"dtype\": \"number\",\n        \"std\": 1,\n        \"min\": 0,\n        \"max\": 3,\n        \"num_unique_values\": 4,\n        \"samples\": [\n          2,\n          0\n        ],\n        \"semantic_type\": \"\",\n        \"description\": \"\"\n      }\n    },\n    {\n      \"column\": \"charges\",\n      \"properties\": {\n        \"dtype\": \"number\",\n        \"std\": 12110.011236694001,\n        \"min\": 1121.8739,\n        \"max\": 63770.42801,\n        \"num_unique_values\": 1337,\n        \"samples\": [\n          8688.85885,\n          5708.867\n        ],\n        \"semantic_type\": \"\",\n        \"description\": \"\"\n      }\n    }\n  ]\n}"
            }
          },
          "metadata": {},
          "execution_count": 7
        }
      ]
    },
    {
      "cell_type": "code",
      "source": [
        "# split into input (X) and output (Y) variables\n",
        "X = df.drop(columns=['charges'])\n",
        "y = df['charges']"
      ],
      "metadata": {
        "id": "mzCaT_ikVyyL"
      },
      "execution_count": null,
      "outputs": []
    },
    {
      "cell_type": "code",
      "source": [
        "X_train_dl, X_test_dl, y_train_dl, y_test_dl = train_test_split(X, y)"
      ],
      "metadata": {
        "id": "8GBVv527XB4-"
      },
      "execution_count": null,
      "outputs": []
    },
    {
      "cell_type": "code",
      "source": [
        "network = models.Sequential()\n",
        "network.add(layers.Dense(24, activation='relu', input_shape=(6,)))\n",
        "network.add(layers.Dense(32, activation='relu'))\n",
        "network.add(layers.Dense(1))"
      ],
      "metadata": {
        "id": "RRyyTqJt_AWV"
      },
      "execution_count": null,
      "outputs": []
    },
    {
      "cell_type": "code",
      "source": [
        "# evaluate model\n",
        "network.compile(loss='mse', optimizer='adam', metrics=['mae'])"
      ],
      "metadata": {
        "id": "I1vpkxXFC984"
      },
      "execution_count": null,
      "outputs": []
    },
    {
      "cell_type": "code",
      "source": [
        "history = network.fit(X_train_dl, y_train_dl, epochs=150, batch_size=50,  verbose=1, validation_split=0.2)"
      ],
      "metadata": {
        "colab": {
          "base_uri": "https://localhost:8080/"
        },
        "id": "o9Y7nanYDBGH",
        "outputId": "52782eda-4efb-47c4-f45e-fcd7f614671c"
      },
      "execution_count": null,
      "outputs": [
        {
          "output_type": "stream",
          "name": "stdout",
          "text": [
            "Epoch 1/150\n",
            "17/17 [==============================] - 1s 16ms/step - loss: 333542880.0000 - mae: 13381.7432 - val_loss: 306709216.0000 - val_mae: 13020.6270\n",
            "Epoch 2/150\n",
            "17/17 [==============================] - 0s 4ms/step - loss: 333034592.0000 - mae: 13364.1006 - val_loss: 306246272.0000 - val_mae: 13003.8555\n",
            "Epoch 3/150\n",
            "17/17 [==============================] - 0s 5ms/step - loss: 332552928.0000 - mae: 13347.1436 - val_loss: 305750432.0000 - val_mae: 12985.8438\n",
            "Epoch 4/150\n",
            "17/17 [==============================] - 0s 4ms/step - loss: 331968192.0000 - mae: 13326.9141 - val_loss: 305117152.0000 - val_mae: 12962.7510\n",
            "Epoch 5/150\n",
            "17/17 [==============================] - 0s 5ms/step - loss: 331199136.0000 - mae: 13299.5850 - val_loss: 304229696.0000 - val_mae: 12930.2773\n",
            "Epoch 6/150\n",
            "17/17 [==============================] - 0s 4ms/step - loss: 330119040.0000 - mae: 13262.0303 - val_loss: 303015936.0000 - val_mae: 12885.7646\n",
            "Epoch 7/150\n",
            "17/17 [==============================] - 0s 5ms/step - loss: 328671872.0000 - mae: 13209.9805 - val_loss: 301339936.0000 - val_mae: 12823.9727\n",
            "Epoch 8/150\n",
            "17/17 [==============================] - 0s 4ms/step - loss: 326615680.0000 - mae: 13138.2432 - val_loss: 299056576.0000 - val_mae: 12739.4922\n",
            "Epoch 9/150\n",
            "17/17 [==============================] - 0s 5ms/step - loss: 323872992.0000 - mae: 13041.5010 - val_loss: 296041120.0000 - val_mae: 12627.2266\n",
            "Epoch 10/150\n",
            "17/17 [==============================] - 0s 4ms/step - loss: 320298400.0000 - mae: 12911.9092 - val_loss: 292145728.0000 - val_mae: 12480.7715\n",
            "Epoch 11/150\n",
            "17/17 [==============================] - 0s 5ms/step - loss: 315975008.0000 - mae: 12754.9102 - val_loss: 287603264.0000 - val_mae: 12307.8242\n",
            "Epoch 12/150\n",
            "17/17 [==============================] - 0s 5ms/step - loss: 310732224.0000 - mae: 12567.7012 - val_loss: 282273120.0000 - val_mae: 12101.8496\n",
            "Epoch 13/150\n",
            "17/17 [==============================] - 0s 5ms/step - loss: 304587872.0000 - mae: 12335.4180 - val_loss: 275691040.0000 - val_mae: 11842.7012\n",
            "Epoch 14/150\n",
            "17/17 [==============================] - 0s 5ms/step - loss: 297244608.0000 - mae: 12060.7158 - val_loss: 268305936.0000 - val_mae: 11545.1553\n",
            "Epoch 15/150\n",
            "17/17 [==============================] - 0s 5ms/step - loss: 289134688.0000 - mae: 11743.5010 - val_loss: 259945536.0000 - val_mae: 11198.9824\n",
            "Epoch 16/150\n",
            "17/17 [==============================] - 0s 7ms/step - loss: 279971168.0000 - mae: 11387.4717 - val_loss: 250877456.0000 - val_mae: 10817.9492\n",
            "Epoch 17/150\n",
            "17/17 [==============================] - 0s 4ms/step - loss: 269989408.0000 - mae: 10995.2197 - val_loss: 240933968.0000 - val_mae: 10403.2148\n",
            "Epoch 18/150\n",
            "17/17 [==============================] - 0s 5ms/step - loss: 258719568.0000 - mae: 10560.4248 - val_loss: 229920560.0000 - val_mae: 9946.0400\n",
            "Epoch 19/150\n",
            "17/17 [==============================] - 0s 4ms/step - loss: 247263248.0000 - mae: 10123.3389 - val_loss: 218995920.0000 - val_mae: 9493.2900\n",
            "Epoch 20/150\n",
            "17/17 [==============================] - 0s 4ms/step - loss: 235649984.0000 - mae: 9677.9971 - val_loss: 207740160.0000 - val_mae: 9033.3691\n",
            "Epoch 21/150\n",
            "17/17 [==============================] - 0s 5ms/step - loss: 223393600.0000 - mae: 9238.9219 - val_loss: 196410992.0000 - val_mae: 8558.5244\n",
            "Epoch 22/150\n",
            "17/17 [==============================] - 0s 5ms/step - loss: 211479872.0000 - mae: 8830.1172 - val_loss: 185860640.0000 - val_mae: 8124.5938\n",
            "Epoch 23/150\n",
            "17/17 [==============================] - 0s 4ms/step - loss: 200392912.0000 - mae: 8481.6992 - val_loss: 175735376.0000 - val_mae: 7743.1050\n",
            "Epoch 24/150\n",
            "17/17 [==============================] - 0s 5ms/step - loss: 189698944.0000 - mae: 8183.9902 - val_loss: 166280432.0000 - val_mae: 7450.7168\n",
            "Epoch 25/150\n",
            "17/17 [==============================] - 0s 4ms/step - loss: 179772384.0000 - mae: 7964.1436 - val_loss: 157199664.0000 - val_mae: 7285.3242\n",
            "Epoch 26/150\n",
            "17/17 [==============================] - 0s 4ms/step - loss: 170704256.0000 - mae: 7811.4995 - val_loss: 149973728.0000 - val_mae: 7227.3159\n",
            "Epoch 27/150\n",
            "17/17 [==============================] - 0s 4ms/step - loss: 163026144.0000 - mae: 7734.8760 - val_loss: 144088144.0000 - val_mae: 7240.5801\n",
            "Epoch 28/150\n",
            "17/17 [==============================] - 0s 5ms/step - loss: 156551216.0000 - mae: 7755.6426 - val_loss: 138364976.0000 - val_mae: 7332.5820\n",
            "Epoch 29/150\n",
            "17/17 [==============================] - 0s 4ms/step - loss: 150525024.0000 - mae: 7836.5693 - val_loss: 134045560.0000 - val_mae: 7463.2607\n",
            "Epoch 30/150\n",
            "17/17 [==============================] - 0s 5ms/step - loss: 145304208.0000 - mae: 8059.8730 - val_loss: 130069400.0000 - val_mae: 7695.3320\n",
            "Epoch 31/150\n",
            "17/17 [==============================] - 0s 4ms/step - loss: 141715520.0000 - mae: 8268.1045 - val_loss: 128112096.0000 - val_mae: 7872.1528\n",
            "Epoch 32/150\n",
            "17/17 [==============================] - 0s 4ms/step - loss: 139576384.0000 - mae: 8426.1357 - val_loss: 126851632.0000 - val_mae: 8026.5356\n",
            "Epoch 33/150\n",
            "17/17 [==============================] - 0s 4ms/step - loss: 138023872.0000 - mae: 8580.5820 - val_loss: 125979488.0000 - val_mae: 8171.2002\n",
            "Epoch 34/150\n",
            "17/17 [==============================] - 0s 5ms/step - loss: 137013840.0000 - mae: 8703.8936 - val_loss: 125392192.0000 - val_mae: 8296.3340\n",
            "Epoch 35/150\n",
            "17/17 [==============================] - 0s 4ms/step - loss: 136131760.0000 - mae: 8811.6611 - val_loss: 124999560.0000 - val_mae: 8407.1172\n",
            "Epoch 36/150\n",
            "17/17 [==============================] - 0s 5ms/step - loss: 135607856.0000 - mae: 8906.3037 - val_loss: 124767888.0000 - val_mae: 8495.8584\n",
            "Epoch 37/150\n",
            "17/17 [==============================] - 0s 5ms/step - loss: 135188416.0000 - mae: 9037.6592 - val_loss: 124564152.0000 - val_mae: 8649.6650\n",
            "Epoch 38/150\n",
            "17/17 [==============================] - 0s 4ms/step - loss: 134725024.0000 - mae: 9109.9697 - val_loss: 124525648.0000 - val_mae: 8694.7168\n",
            "Epoch 39/150\n",
            "17/17 [==============================] - 0s 4ms/step - loss: 134449712.0000 - mae: 9189.7139 - val_loss: 124547456.0000 - val_mae: 8802.9307\n",
            "Epoch 40/150\n",
            "17/17 [==============================] - 0s 4ms/step - loss: 134409936.0000 - mae: 9234.8057 - val_loss: 124534216.0000 - val_mae: 8817.9199\n",
            "Epoch 41/150\n",
            "17/17 [==============================] - 0s 5ms/step - loss: 134336784.0000 - mae: 9253.6299 - val_loss: 124526192.0000 - val_mae: 8836.2021\n",
            "Epoch 42/150\n",
            "17/17 [==============================] - 0s 4ms/step - loss: 134260624.0000 - mae: 9282.4971 - val_loss: 124557424.0000 - val_mae: 8879.6572\n",
            "Epoch 43/150\n",
            "17/17 [==============================] - 0s 5ms/step - loss: 134203584.0000 - mae: 9307.0732 - val_loss: 124541968.0000 - val_mae: 8887.1006\n",
            "Epoch 44/150\n",
            "17/17 [==============================] - 0s 4ms/step - loss: 134167888.0000 - mae: 9298.1377 - val_loss: 124469224.0000 - val_mae: 8859.6533\n",
            "Epoch 45/150\n",
            "17/17 [==============================] - 0s 4ms/step - loss: 134143064.0000 - mae: 9280.6475 - val_loss: 124420464.0000 - val_mae: 8845.5439\n",
            "Epoch 46/150\n",
            "17/17 [==============================] - 0s 5ms/step - loss: 134137344.0000 - mae: 9260.2627 - val_loss: 124372536.0000 - val_mae: 8828.9648\n",
            "Epoch 47/150\n",
            "17/17 [==============================] - 0s 4ms/step - loss: 134102256.0000 - mae: 9269.5625 - val_loss: 124378256.0000 - val_mae: 8853.7773\n",
            "Epoch 48/150\n",
            "17/17 [==============================] - 0s 5ms/step - loss: 134105968.0000 - mae: 9263.2305 - val_loss: 124337440.0000 - val_mae: 8843.0811\n",
            "Epoch 49/150\n",
            "17/17 [==============================] - 0s 4ms/step - loss: 133998128.0000 - mae: 9307.7451 - val_loss: 124436808.0000 - val_mae: 8918.2148\n",
            "Epoch 50/150\n",
            "17/17 [==============================] - 0s 5ms/step - loss: 133936024.0000 - mae: 9346.5947 - val_loss: 124440312.0000 - val_mae: 8932.0781\n",
            "Epoch 51/150\n",
            "17/17 [==============================] - 0s 4ms/step - loss: 133905352.0000 - mae: 9340.6631 - val_loss: 124365056.0000 - val_mae: 8908.3506\n",
            "Epoch 52/150\n",
            "17/17 [==============================] - 0s 5ms/step - loss: 133885024.0000 - mae: 9324.5322 - val_loss: 124334272.0000 - val_mae: 8907.2920\n",
            "Epoch 53/150\n",
            "17/17 [==============================] - 0s 5ms/step - loss: 133893600.0000 - mae: 9364.9512 - val_loss: 124424392.0000 - val_mae: 8961.1875\n",
            "Epoch 54/150\n",
            "17/17 [==============================] - 0s 5ms/step - loss: 133784920.0000 - mae: 9355.1289 - val_loss: 124304592.0000 - val_mae: 8920.2539\n",
            "Epoch 55/150\n",
            "17/17 [==============================] - 0s 4ms/step - loss: 133815704.0000 - mae: 9310.7109 - val_loss: 124193392.0000 - val_mae: 8875.3018\n",
            "Epoch 56/150\n",
            "17/17 [==============================] - 0s 5ms/step - loss: 133765152.0000 - mae: 9294.6094 - val_loss: 124192984.0000 - val_mae: 8889.4912\n",
            "Epoch 57/150\n",
            "17/17 [==============================] - 0s 5ms/step - loss: 133852824.0000 - mae: 9377.9404 - val_loss: 124393088.0000 - val_mae: 8990.2285\n",
            "Epoch 58/150\n",
            "17/17 [==============================] - 0s 4ms/step - loss: 133664184.0000 - mae: 9377.8574 - val_loss: 124226216.0000 - val_mae: 8933.5264\n",
            "Epoch 59/150\n",
            "17/17 [==============================] - 0s 4ms/step - loss: 133620104.0000 - mae: 9325.8350 - val_loss: 124103872.0000 - val_mae: 8886.7812\n",
            "Epoch 60/150\n",
            "17/17 [==============================] - 0s 4ms/step - loss: 133614392.0000 - mae: 9292.1543 - val_loss: 124031528.0000 - val_mae: 8860.2090\n",
            "Epoch 61/150\n",
            "17/17 [==============================] - 0s 5ms/step - loss: 133619368.0000 - mae: 9265.6592 - val_loss: 123965712.0000 - val_mae: 8832.4326\n",
            "Epoch 62/150\n",
            "17/17 [==============================] - 0s 4ms/step - loss: 133591992.0000 - mae: 9246.5039 - val_loss: 123910744.0000 - val_mae: 8809.7471\n",
            "Epoch 63/150\n",
            "17/17 [==============================] - 0s 4ms/step - loss: 133609368.0000 - mae: 9213.4111 - val_loss: 123859648.0000 - val_mae: 8789.1924\n",
            "Epoch 64/150\n",
            "17/17 [==============================] - 0s 6ms/step - loss: 133471696.0000 - mae: 9265.4326 - val_loss: 123970664.0000 - val_mae: 8887.5928\n",
            "Epoch 65/150\n",
            "17/17 [==============================] - 0s 6ms/step - loss: 133423952.0000 - mae: 9323.6006 - val_loss: 124020816.0000 - val_mae: 8924.9336\n",
            "Epoch 66/150\n",
            "17/17 [==============================] - 0s 6ms/step - loss: 133395504.0000 - mae: 9354.5508 - val_loss: 124026504.0000 - val_mae: 8938.7666\n",
            "Epoch 67/150\n",
            "17/17 [==============================] - 0s 5ms/step - loss: 133363904.0000 - mae: 9338.7422 - val_loss: 123965952.0000 - val_mae: 8923.5000\n",
            "Epoch 68/150\n",
            "17/17 [==============================] - 0s 6ms/step - loss: 133339080.0000 - mae: 9388.6172 - val_loss: 124171704.0000 - val_mae: 9013.8047\n",
            "Epoch 69/150\n",
            "17/17 [==============================] - 0s 5ms/step - loss: 133323392.0000 - mae: 9446.6846 - val_loss: 124275848.0000 - val_mae: 9054.6084\n",
            "Epoch 70/150\n",
            "17/17 [==============================] - 0s 5ms/step - loss: 133310192.0000 - mae: 9463.5615 - val_loss: 124220608.0000 - val_mae: 9045.6650\n",
            "Epoch 71/150\n",
            "17/17 [==============================] - 0s 5ms/step - loss: 133354624.0000 - mae: 9396.7900 - val_loss: 123911496.0000 - val_mae: 8946.9053\n",
            "Epoch 72/150\n",
            "17/17 [==============================] - 0s 6ms/step - loss: 133181552.0000 - mae: 9370.5000 - val_loss: 123916032.0000 - val_mae: 8958.9688\n",
            "Epoch 73/150\n",
            "17/17 [==============================] - 0s 6ms/step - loss: 133140224.0000 - mae: 9348.7822 - val_loss: 123790992.0000 - val_mae: 8917.2803\n",
            "Epoch 74/150\n",
            "17/17 [==============================] - 0s 6ms/step - loss: 133128464.0000 - mae: 9297.1455 - val_loss: 123665936.0000 - val_mae: 8867.0566\n",
            "Epoch 75/150\n",
            "17/17 [==============================] - 0s 6ms/step - loss: 133105880.0000 - mae: 9304.8652 - val_loss: 123741392.0000 - val_mae: 8917.9297\n",
            "Epoch 76/150\n",
            "17/17 [==============================] - 0s 6ms/step - loss: 133309976.0000 - mae: 9446.3486 - val_loss: 124334856.0000 - val_mae: 9118.5625\n",
            "Epoch 77/150\n",
            "17/17 [==============================] - 0s 6ms/step - loss: 133203464.0000 - mae: 9544.4258 - val_loss: 124475280.0000 - val_mae: 9158.6670\n",
            "Epoch 78/150\n",
            "17/17 [==============================] - 0s 5ms/step - loss: 133151296.0000 - mae: 9514.7998 - val_loss: 124157128.0000 - val_mae: 9085.7139\n",
            "Epoch 79/150\n",
            "17/17 [==============================] - 0s 6ms/step - loss: 132946072.0000 - mae: 9455.8506 - val_loss: 123891520.0000 - val_mae: 9015.7959\n",
            "Epoch 80/150\n",
            "17/17 [==============================] - 0s 7ms/step - loss: 132894400.0000 - mae: 9383.8066 - val_loss: 123657728.0000 - val_mae: 8940.5234\n",
            "Epoch 81/150\n",
            "17/17 [==============================] - 0s 6ms/step - loss: 132876552.0000 - mae: 9321.3906 - val_loss: 123519424.0000 - val_mae: 8890.1064\n",
            "Epoch 82/150\n",
            "17/17 [==============================] - 0s 6ms/step - loss: 132840928.0000 - mae: 9294.8311 - val_loss: 123472024.0000 - val_mae: 8878.3613\n",
            "Epoch 83/150\n",
            "17/17 [==============================] - 0s 6ms/step - loss: 132814856.0000 - mae: 9313.4502 - val_loss: 123516480.0000 - val_mae: 8910.8105\n",
            "Epoch 84/150\n",
            "17/17 [==============================] - 0s 7ms/step - loss: 132792408.0000 - mae: 9305.2529 - val_loss: 123450112.0000 - val_mae: 8891.0146\n",
            "Epoch 85/150\n",
            "17/17 [==============================] - 0s 6ms/step - loss: 132821760.0000 - mae: 9360.7051 - val_loss: 123647696.0000 - val_mae: 8980.9668\n",
            "Epoch 86/150\n",
            "17/17 [==============================] - 0s 6ms/step - loss: 132722576.0000 - mae: 9359.7090 - val_loss: 123505184.0000 - val_mae: 8936.8545\n",
            "Epoch 87/150\n",
            "17/17 [==============================] - 0s 6ms/step - loss: 132657672.0000 - mae: 9369.2227 - val_loss: 123612512.0000 - val_mae: 8986.1064\n",
            "Epoch 88/150\n",
            "17/17 [==============================] - 0s 6ms/step - loss: 132674784.0000 - mae: 9386.9443 - val_loss: 123561216.0000 - val_mae: 8976.8447\n",
            "Epoch 89/150\n",
            "17/17 [==============================] - 0s 6ms/step - loss: 132610736.0000 - mae: 9371.4561 - val_loss: 123460000.0000 - val_mae: 8948.6631\n",
            "Epoch 90/150\n",
            "17/17 [==============================] - 0s 6ms/step - loss: 132581344.0000 - mae: 9323.1797 - val_loss: 123291088.0000 - val_mae: 8886.8799\n",
            "Epoch 91/150\n",
            "17/17 [==============================] - 0s 8ms/step - loss: 132552088.0000 - mae: 9290.3311 - val_loss: 123225440.0000 - val_mae: 8866.0039\n",
            "Epoch 92/150\n",
            "17/17 [==============================] - 0s 7ms/step - loss: 132565384.0000 - mae: 9259.3047 - val_loss: 123135768.0000 - val_mae: 8828.1074\n",
            "Epoch 93/150\n",
            "17/17 [==============================] - 0s 7ms/step - loss: 132552488.0000 - mae: 9235.9375 - val_loss: 123096408.0000 - val_mae: 8818.0879\n",
            "Epoch 94/150\n",
            "17/17 [==============================] - 0s 7ms/step - loss: 132520088.0000 - mae: 9228.6025 - val_loss: 123058200.0000 - val_mae: 8808.2822\n",
            "Epoch 95/150\n",
            "17/17 [==============================] - 0s 8ms/step - loss: 132540608.0000 - mae: 9212.6328 - val_loss: 123018632.0000 - val_mae: 8797.0332\n",
            "Epoch 96/150\n",
            "17/17 [==============================] - 0s 7ms/step - loss: 132354704.0000 - mae: 9264.5703 - val_loss: 123184696.0000 - val_mae: 8905.6260\n",
            "Epoch 97/150\n",
            "17/17 [==============================] - 0s 7ms/step - loss: 132391568.0000 - mae: 9354.3760 - val_loss: 123322728.0000 - val_mae: 8969.2402\n",
            "Epoch 98/150\n",
            "17/17 [==============================] - 0s 6ms/step - loss: 132332752.0000 - mae: 9350.5771 - val_loss: 123165928.0000 - val_mae: 8918.8428\n",
            "Epoch 99/150\n",
            "17/17 [==============================] - 0s 7ms/step - loss: 132300168.0000 - mae: 9304.4395 - val_loss: 123049288.0000 - val_mae: 8878.1104\n",
            "Epoch 100/150\n",
            "17/17 [==============================] - 0s 5ms/step - loss: 132269440.0000 - mae: 9275.7373 - val_loss: 122985528.0000 - val_mae: 8858.0654\n",
            "Epoch 101/150\n",
            "17/17 [==============================] - 0s 5ms/step - loss: 132297840.0000 - mae: 9315.3057 - val_loss: 123134392.0000 - val_mae: 8935.4736\n",
            "Epoch 102/150\n",
            "17/17 [==============================] - 0s 6ms/step - loss: 132195824.0000 - mae: 9328.5371 - val_loss: 123032416.0000 - val_mae: 8903.0625\n",
            "Epoch 103/150\n",
            "17/17 [==============================] - 0s 6ms/step - loss: 132191512.0000 - mae: 9280.8447 - val_loss: 122871912.0000 - val_mae: 8834.9443\n",
            "Epoch 104/150\n",
            "17/17 [==============================] - 0s 7ms/step - loss: 132184824.0000 - mae: 9238.4033 - val_loss: 122814312.0000 - val_mae: 8814.8369\n",
            "Epoch 105/150\n",
            "17/17 [==============================] - 0s 6ms/step - loss: 132161768.0000 - mae: 9231.4629 - val_loss: 122783472.0000 - val_mae: 8811.0146\n",
            "Epoch 106/150\n",
            "17/17 [==============================] - 0s 7ms/step - loss: 132160016.0000 - mae: 9210.9131 - val_loss: 122741232.0000 - val_mae: 8799.4932\n",
            "Epoch 107/150\n",
            "17/17 [==============================] - 0s 7ms/step - loss: 132087264.0000 - mae: 9264.6875 - val_loss: 122867856.0000 - val_mae: 8884.4619\n",
            "Epoch 108/150\n",
            "17/17 [==============================] - 0s 10ms/step - loss: 132029712.0000 - mae: 9284.1084 - val_loss: 122800792.0000 - val_mae: 8863.8945\n",
            "Epoch 109/150\n",
            "17/17 [==============================] - 0s 5ms/step - loss: 132031696.0000 - mae: 9259.0811 - val_loss: 122745536.0000 - val_mae: 8847.8779\n",
            "Epoch 110/150\n",
            "17/17 [==============================] - 0s 5ms/step - loss: 132034352.0000 - mae: 9315.5127 - val_loss: 122916120.0000 - val_mae: 8935.0537\n",
            "Epoch 111/150\n",
            "17/17 [==============================] - 0s 5ms/step - loss: 131971688.0000 - mae: 9316.3594 - val_loss: 122817000.0000 - val_mae: 8905.4424\n",
            "Epoch 112/150\n",
            "17/17 [==============================] - 0s 5ms/step - loss: 131914272.0000 - mae: 9359.8438 - val_loss: 123020832.0000 - val_mae: 8988.1719\n",
            "Epoch 113/150\n",
            "17/17 [==============================] - 0s 4ms/step - loss: 131866760.0000 - mae: 9370.9834 - val_loss: 122874824.0000 - val_mae: 8947.1074\n",
            "Epoch 114/150\n",
            "17/17 [==============================] - 0s 6ms/step - loss: 131870880.0000 - mae: 9310.2393 - val_loss: 122671216.0000 - val_mae: 8874.2793\n",
            "Epoch 115/150\n",
            "17/17 [==============================] - 0s 4ms/step - loss: 131843256.0000 - mae: 9274.3008 - val_loss: 122641208.0000 - val_mae: 8871.6816\n",
            "Epoch 116/150\n",
            "17/17 [==============================] - 0s 5ms/step - loss: 131782200.0000 - mae: 9296.6064 - val_loss: 122685320.0000 - val_mae: 8902.0596\n",
            "Epoch 117/150\n",
            "17/17 [==============================] - 0s 4ms/step - loss: 131805344.0000 - mae: 9331.2402 - val_loss: 122697624.0000 - val_mae: 8917.1074\n",
            "Epoch 118/150\n",
            "17/17 [==============================] - 0s 5ms/step - loss: 131867680.0000 - mae: 9280.9668 - val_loss: 122518408.0000 - val_mae: 8847.8418\n",
            "Epoch 119/150\n",
            "17/17 [==============================] - 0s 4ms/step - loss: 131675784.0000 - mae: 9271.3496 - val_loss: 122540664.0000 - val_mae: 8871.6523\n",
            "Epoch 120/150\n",
            "17/17 [==============================] - 0s 5ms/step - loss: 131646176.0000 - mae: 9274.2979 - val_loss: 122476760.0000 - val_mae: 8853.5859\n",
            "Epoch 121/150\n",
            "17/17 [==============================] - 0s 5ms/step - loss: 131615400.0000 - mae: 9250.1436 - val_loss: 122397336.0000 - val_mae: 8825.0137\n",
            "Epoch 122/150\n",
            "17/17 [==============================] - 0s 4ms/step - loss: 131597736.0000 - mae: 9229.9004 - val_loss: 122335888.0000 - val_mae: 8803.0732\n",
            "Epoch 123/150\n",
            "17/17 [==============================] - 0s 4ms/step - loss: 131647680.0000 - mae: 9185.5635 - val_loss: 122263640.0000 - val_mae: 8771.7627\n",
            "Epoch 124/150\n",
            "17/17 [==============================] - 0s 5ms/step - loss: 131517776.0000 - mae: 9265.2686 - val_loss: 122513744.0000 - val_mae: 8914.5273\n",
            "Epoch 125/150\n",
            "17/17 [==============================] - 0s 5ms/step - loss: 131480384.0000 - mae: 9335.7061 - val_loss: 122588856.0000 - val_mae: 8950.8174\n",
            "Epoch 126/150\n",
            "17/17 [==============================] - 0s 5ms/step - loss: 131457688.0000 - mae: 9365.2119 - val_loss: 122664616.0000 - val_mae: 8984.0381\n",
            "Epoch 127/150\n",
            "17/17 [==============================] - 0s 4ms/step - loss: 131455880.0000 - mae: 9403.3086 - val_loss: 122798368.0000 - val_mae: 9031.0410\n",
            "Epoch 128/150\n",
            "17/17 [==============================] - 0s 5ms/step - loss: 131449728.0000 - mae: 9426.5732 - val_loss: 122828384.0000 - val_mae: 9045.8955\n",
            "Epoch 129/150\n",
            "17/17 [==============================] - 0s 4ms/step - loss: 131543768.0000 - mae: 9478.2461 - val_loss: 123025992.0000 - val_mae: 9101.4199\n",
            "Epoch 130/150\n",
            "17/17 [==============================] - 0s 4ms/step - loss: 131447168.0000 - mae: 9440.0107 - val_loss: 122641400.0000 - val_mae: 9007.9814\n",
            "Epoch 131/150\n",
            "17/17 [==============================] - 0s 4ms/step - loss: 131322008.0000 - mae: 9386.9434 - val_loss: 122506376.0000 - val_mae: 8974.3779\n",
            "Epoch 132/150\n",
            "17/17 [==============================] - 0s 4ms/step - loss: 131242528.0000 - mae: 9350.2080 - val_loss: 122358912.0000 - val_mae: 8933.2627\n",
            "Epoch 133/150\n",
            "17/17 [==============================] - 0s 4ms/step - loss: 131197144.0000 - mae: 9310.9150 - val_loss: 122267688.0000 - val_mae: 8908.3506\n",
            "Epoch 134/150\n",
            "17/17 [==============================] - 0s 4ms/step - loss: 131150624.0000 - mae: 9370.5449 - val_loss: 122597856.0000 - val_mae: 9022.7803\n",
            "Epoch 135/150\n",
            "17/17 [==============================] - 0s 4ms/step - loss: 131217544.0000 - mae: 9417.1094 - val_loss: 122548928.0000 - val_mae: 9016.1768\n",
            "Epoch 136/150\n",
            "17/17 [==============================] - 0s 4ms/step - loss: 131169968.0000 - mae: 9402.8750 - val_loss: 122445664.0000 - val_mae: 8993.2754\n",
            "Epoch 137/150\n",
            "17/17 [==============================] - 0s 5ms/step - loss: 131118424.0000 - mae: 9366.3613 - val_loss: 122278336.0000 - val_mae: 8947.8018\n",
            "Epoch 138/150\n",
            "17/17 [==============================] - 0s 5ms/step - loss: 131029776.0000 - mae: 9326.3057 - val_loss: 122129376.0000 - val_mae: 8903.1924\n",
            "Epoch 139/150\n",
            "17/17 [==============================] - 0s 5ms/step - loss: 131007040.0000 - mae: 9273.3311 - val_loss: 121980336.0000 - val_mae: 8851.0625\n",
            "Epoch 140/150\n",
            "17/17 [==============================] - 0s 5ms/step - loss: 131000928.0000 - mae: 9283.6250 - val_loss: 122059096.0000 - val_mae: 8896.4463\n",
            "Epoch 141/150\n",
            "17/17 [==============================] - 0s 4ms/step - loss: 130941432.0000 - mae: 9300.0107 - val_loss: 122031864.0000 - val_mae: 8895.8994\n",
            "Epoch 142/150\n",
            "17/17 [==============================] - 0s 4ms/step - loss: 130886728.0000 - mae: 9278.1738 - val_loss: 121897656.0000 - val_mae: 8849.9189\n",
            "Epoch 143/150\n",
            "17/17 [==============================] - 0s 4ms/step - loss: 130865784.0000 - mae: 9238.8691 - val_loss: 121811192.0000 - val_mae: 8819.9629\n",
            "Epoch 144/150\n",
            "17/17 [==============================] - 0s 4ms/step - loss: 130890184.0000 - mae: 9200.3789 - val_loss: 121724520.0000 - val_mae: 8785.0596\n",
            "Epoch 145/150\n",
            "17/17 [==============================] - 0s 5ms/step - loss: 130860296.0000 - mae: 9245.0078 - val_loss: 121891696.0000 - val_mae: 8880.6309\n",
            "Epoch 146/150\n",
            "17/17 [==============================] - 0s 6ms/step - loss: 130810064.0000 - mae: 9322.7959 - val_loss: 122034392.0000 - val_mae: 8942.9463\n",
            "Epoch 147/150\n",
            "17/17 [==============================] - 0s 5ms/step - loss: 130749528.0000 - mae: 9327.7109 - val_loss: 121958800.0000 - val_mae: 8926.0713\n",
            "Epoch 148/150\n",
            "17/17 [==============================] - 0s 4ms/step - loss: 130809104.0000 - mae: 9366.4492 - val_loss: 122116072.0000 - val_mae: 8984.7598\n",
            "Epoch 149/150\n",
            "17/17 [==============================] - 0s 6ms/step - loss: 130735496.0000 - mae: 9335.1943 - val_loss: 121827304.0000 - val_mae: 8897.2607\n",
            "Epoch 150/150\n",
            "17/17 [==============================] - 0s 6ms/step - loss: 130627368.0000 - mae: 9285.3213 - val_loss: 121729960.0000 - val_mae: 8868.4131\n"
          ]
        }
      ]
    },
    {
      "cell_type": "code",
      "source": [
        "# Print metrics after training\n",
        "print(\"Final Metrics:\")\n",
        "print(\"Train:\")\n",
        "print(\"\\tMAE:\", history.history['mae'][-1])\n",
        "print(\"Validation:\")\n",
        "print(\"\\tMAE:\", history.history['val_mae'][-1])"
      ],
      "metadata": {
        "colab": {
          "base_uri": "https://localhost:8080/"
        },
        "id": "VcEC6aWLBI_K",
        "outputId": "5f0e4a99-6b6f-4294-9a28-2d68fd014c2d"
      },
      "execution_count": null,
      "outputs": [
        {
          "output_type": "stream",
          "name": "stdout",
          "text": [
            "Final Metrics:\n",
            "Train:\n",
            "\tMAE: 9285.3212890625\n",
            "Validation:\n",
            "\tMAE: 8868.4130859375\n"
          ]
        }
      ]
    },
    {
      "cell_type": "code",
      "source": [
        "print(history.history.keys())\n",
        "plt.plot(history.history['loss'])\n",
        "plt.plot(history.history['val_loss'])\n",
        "plt.title('model loss')\n",
        "plt.ylabel('Loss')\n",
        "plt.xlabel('Epoch')\n",
        "plt.legend(['Train', 'Validation'], loc='upper right')\n",
        "plt.show()"
      ],
      "metadata": {
        "colab": {
          "base_uri": "https://localhost:8080/",
          "height": 489
        },
        "id": "z-7E2qyzDeP2",
        "outputId": "85c60114-9afd-4bf6-be32-55dd5bce143b"
      },
      "execution_count": null,
      "outputs": [
        {
          "output_type": "stream",
          "name": "stdout",
          "text": [
            "dict_keys(['loss', 'mae', 'val_loss', 'val_mae'])\n"
          ]
        },
        {
          "output_type": "display_data",
          "data": {
            "text/plain": [
              "<Figure size 640x480 with 1 Axes>"
            ],
            "image/png": "[encoded data removed]"
          },
          "metadata": {}
        }
      ]
    },
    {
      "cell_type": "markdown",
      "source": [
        "##Predict New Data"
      ],
      "metadata": {
        "id": "HPc27i_RnVU6"
      }
    },
    {
      "cell_type": "code",
      "source": [
        "Xnew = np.array([[19, 0, 27.900, 0, 1, 3]]) #input yang dimasukan disamakan dengan data pertama di dataset\n",
        "\n",
        "ynew = network.predict(Xnew)\n",
        "\n",
        "# Print the results using f-strings for better readability\n",
        "print(\"X=%s \\n Predicted=%s\" % (Xnew[0], ynew[0]))"
      ],
      "metadata": {
        "colab": {
          "base_uri": "https://localhost:8080/"
        },
        "id": "DZuLBaN7nZuu",
        "outputId": "cb4d2b7a-2fb7-4361-812a-0428655d8682"
      },
      "execution_count": null,
      "outputs": [
        {
          "output_type": "stream",
          "name": "stdout",
          "text": [
            "1/1 [==============================] - 0s 64ms/step\n",
            "X=[19.   0.  27.9  0.   1.   3. ] \n",
            " Predicted=[9382.231]\n"
          ]
        }
      ]
    },
    {
      "cell_type": "markdown",
      "source": [
        "###Kesimpulan (Deep Learning - ANN Regression)\n",
        "\n",
        "- Dari hasil pengujian deep learning, dihasilkan nilai mae yang cukup besar yaitu 8868.41, menurut saya hal itu dikarenakan data charges memiliki nilai yang besar (ribuan hingga puluhan ribu) sehingga nilai mae yang dihasilkan pun cukup besar. Namun, walaupun begitu dapat diambil kesimpulan juga bahwa hasil mae-nya memang memiliki angka yang besar yang berarti model yang dibuat belum bisa menangani data dengan baik.\n",
        "- Hasil dari predict new data (di akhir cell) pun membuktikan bahwa model tidak dapat memprediksi dengan baik, dikarenan data predict yang saya masukan adalah data yang sama seperti pada dataset row 1, di mana nilai charges-nya adalah 16884.92, namun pada predict new data charges yang diprediksi adalah 9382.231."
      ],
      "metadata": {
        "id": "oDUhE2iVUeh7"
      }
    },
    {
      "cell_type": "markdown",
      "source": [
        "###Kesimpulan Akhir\n",
        "\n",
        "- menurut saya model yang baik untuk menangani data ini adalah model Machine Learning - SVR, dikarenakan model tersebut memiliki nilai R2 yang cukup baik dan memiliki nilai error yang tidak terlalu besar"
      ],
      "metadata": {
        "id": "vkUqLMrXEcUU"
      }
    }
  ]
}